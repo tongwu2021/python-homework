{
 "cells": [
  {
   "cell_type": "markdown",
   "id": "d5307a67",
   "metadata": {},
   "source": [
    "# Homework 2-2\n",
    "========================\n",
    "## 스크립트프로그래밍 1분반\n",
    "### 2019136103 이준희"
   ]
  },
  {
   "cell_type": "markdown",
   "id": "492371b9",
   "metadata": {},
   "source": [
    "## [Incremental Project 문제]\n",
    "-----------------------------------------\n",
    "웹 URL로 지정된 웹페이지를 문자열로 가져와 1) 모든 HTML 태그를 제외한 순수 텍스트 문자열만을 걸러내고, 2) 그 순수 텍스트 문자열 안에 존재하는 단어가 총 몇개인지 출력하는 프로그램을 작성하시오.\n",
    "* HTML 태그는 다음 조건을 가지는 것이다.\n",
    "\n",
    "    * < 로 시작하여 >로 끝난다.\n",
    "    * 예를 들어, 아래와 같은 HTML 내용 내에 한 줄이 있다고 가정하자.<br>\n",
    "            <label for=\"keep_signed\">로그인 유지</label>\n",
    "        * 위 소스에서 HTML 태그를 제외한 순수 텍스트 문자열: 로그인 유지\n",
    "\n",
    "    * 다른 예제\n",
    "\n",
    "            <a href=\"#panel-3\" class=\"ui-tabs-anchor\" role=\"presentation\" tabindex=\"-1\" id=\"ui-id-3\"><strong>교육역량강화사업 온라인 컨텐츠</strong><br>\n",
    "        * 순수 텍스트 문자열: 교육역량강화사업 온라인 컨텐츠\n",
    "\n",
    "    * 한편, 아래와 같은 HTML 한 줄이 있다고 가정하자.\n",
    "\n",
    "<link rel=\"stylesheet\" href=\"/common/css/xe.min.css?20150910092654\" />\n",
    "        * 위 한 줄은 HTML 태그로만 구성된 것이며 걸러낼 수 있는 순수 텍스 문자열은 존재하지 않는다.\n",
    "\n",
    "    * 다른 예제\n",
    "        //<![CDATA[\n",
    "        xe.current_lang = \"ko\";\n",
    "        xe.cmd_find = \"찾기\";\n",
    "        xe.cmd_cancel = \"취소\";\n",
    "        xe.cmd_confirm = \"확인\";\n",
    "        xe.msg_no_root = \"루트는 선택 할 수 없습니다.\";\n",
    "        xe.msg_no_shortcut = \"바로가기는 선택 할 수 없습니다.\";\n",
    "        xe.msg_select_menu = \"대상 메뉴 선택\";\n",
    "        //]]>\n",
    "        * 순수 텍스트 문자열: 없음\n",
    "\n",
    "* 단어를 나누는 기준은 오로지 공백문자 (whitespace)이다.\n",
    "    * 즉, 위 순수 텍스트 문자열인 \"로그인 유지\"에서 분리한 단어는 \"로그인\"과 \"유지\"이다.\n",
    "* 중복을 고려하지 않고 무조건 모든 단어의 개수를 세어서 출력한다.\n",
    "* 본 숙제를 위하여 HTML 파싱과 관련된 모듈 (예. BeautifulSoup) 사용 금지\n",
    "* 다음은 URL로 지정된 웹페이지를 특정 문자열로 가져오는 코드이다.\n",
    "    * 즉, 숙제 코드는 아래 코드로 부터 시작해야 한다.\n",
    "    * 아래 코드 수행시 requests 모듈이 존재하지 않는 에러가 발생하면 command 창에서 다음 코드 입력하여 requests 모듈 설치후 아래 코드 수행\n",
    "        > pip install requests\n",
    "* 본 문제에 대한 정확한 답안은 존재하지 않으며, 채점은 코딩 내용을 보고 코딩의 정확성, 완결성, 가독성 등을 보고 평가한다.\n",
    "* 2개 이상의 URL에 대하여 순수한 단어의 개수를 출력하는 예시를 제시할 것"
   ]
  },
  {
   "cell_type": "code",
   "execution_count": 7,
   "id": "24d20456",
   "metadata": {},
   "outputs": [],
   "source": [
    "import requests\n",
    "\n",
    "req = requests.get('http://cse.koreatech.ac.kr')\n",
    "source = req.text"
   ]
  },
  {
   "cell_type": "code",
   "execution_count": 83,
   "id": "a784f083",
   "metadata": {},
   "outputs": [],
   "source": [
    "#print(source)"
   ]
  },
  {
   "cell_type": "code",
   "execution_count": 81,
   "id": "316477bd",
   "metadata": {},
   "outputs": [
    {
     "name": "stdout",
     "output_type": "stream",
     "text": [
      "['사이트', '폐쇄', '안내', '특성화', '사업', '종료로', '인한', '사이트가', '폐쇄되었습니다', '잠시후', '컴퓨터공학부', '홈페이지로', '자동', '연결', '됩니다']\n",
      "15\n"
     ]
    }
   ],
   "source": [
    "import re\n",
    "\n",
    "source = source.strip()\n",
    "word = ''\n",
    "check = True\n",
    "result = []\n",
    "result2 = []\n",
    "    \n",
    "for i in range(len(source)):\n",
    "    if (source[i] == '>' and check == False):\n",
    "            check = True\n",
    "            continue\n",
    "    if (source[i] == '<'):\n",
    "            check = False\n",
    "            continue\n",
    "    if(check == True):\n",
    "        word += source[i]\n",
    "\n",
    "result = word.split()\n",
    "string = ' '.join(result)\n",
    "\n",
    "\n",
    "result2 = re.compile('[가-힣]+').findall(string)\n",
    "print(result2)\n",
    "print(len(result2))"
   ]
  },
  {
   "cell_type": "markdown",
   "id": "bbd39952",
   "metadata": {},
   "source": [
    "### 설명\n",
    "먼저 source.strip()을 통해 문제가 될 수 있는 양쪽의 공백들을 다 제거한다.<br>\n",
    "그리고 문자열을 넣을 word, bool 변수 check, 두 개의 결과를 담을 리스트를 선언한다.<br>\n",
    "받아온 HTML에서 >가 나오고 check이 false이면 check을 True로 만들고 <가 나오면 check을 False로 만든다. 그래서 check이 True인 경우 그 문자열을 word에 넣는다. 이렇게 되면 > < 사이의 문자열이 word에 들어가게 된다.<br>\n",
    "그리고 공백을 기준으로 첫 번째 결과를 리스트에 나눠 넣는다면 순수한 단어를 찾는 첫 번째 단계가 완성된다.<br>\n",
    "하지만 result를 출력해보면 > < 사이에 있는 내용물들이 있을 뿐 완전히 순수 텍스트 문자열을 걸러낸 것이 아니다. 이를 위한 두 번째 단계로 나아가기 위해 다시 result에 있는 리스트를 문자열로 바꾼다. 여기서 주의할 점은 단어로 나누기 위해 공백을 포함시켜 문자열로 만들어줘야 한다는 것이다. join함수가 이를 수행한다.<br>\n",
    "문자열로 바꿨으면 정규식(Regex)을 이용해 한글만을 추출하여 result2 리스트에 넣는다.<br>\n",
    "이를 통해 순수 텍스트 문자열의 각각의 단어들만이 result2 리스트에 저장되고, len을 사용하면 순수 텍스트 문자열 단어의 개수를 얻을 수 있다."
   ]
  },
  {
   "cell_type": "code",
   "execution_count": 92,
   "id": "b5026e45",
   "metadata": {},
   "outputs": [],
   "source": [
    "req2 = requests.get('http://koreatech.ac.kr/grd')\n",
    "source2 = req2.text"
   ]
  },
  {
   "cell_type": "code",
   "execution_count": 95,
   "id": "0133c008",
   "metadata": {},
   "outputs": [],
   "source": [
    "#print(source2)"
   ]
  },
  {
   "cell_type": "code",
   "execution_count": 96,
   "id": "471e9ce6",
   "metadata": {},
   "outputs": [
    {
     "name": "stdout",
     "output_type": "stream",
     "text": [
      "352\n"
     ]
    }
   ],
   "source": [
    "source2 = source2.strip()\n",
    "word_ = ''\n",
    "check_ = True\n",
    "result_ = []\n",
    "result_2 = []\n",
    "    \n",
    "for i in range(len(source2)):\n",
    "    if (source2[i] == '>' and check_ == False):\n",
    "            check_ = True\n",
    "            continue\n",
    "    if (source2[i] == '<'):\n",
    "            check_ = False\n",
    "            continue\n",
    "    if(check_ == True):\n",
    "        word_ += source2[i]\n",
    "\n",
    "result_ = word_.split()\n",
    "string_ = ' '.join(result_)\n",
    "\n",
    "\n",
    "result_2 = re.compile('[가-힣]+').findall(string_)\n",
    "print(len(result_2))"
   ]
  },
  {
   "cell_type": "markdown",
   "id": "a384d0ad",
   "metadata": {},
   "source": [
    "### 설명\n",
    "설명은 위와 같다."
   ]
  },
  {
   "cell_type": "markdown",
   "id": "81065238",
   "metadata": {},
   "source": [
    "### 현재까지 강의를 들은 후의 소감\n",
    " 다양한 종류의 메소드들이 나오면서 직접 여러 번 사용하지 않으면 메소드 종류를 헷갈릴 것 같다는 느낌을 받았다.\n",
    "### 숙제를 한 이후의 소감 \n",
    "이번 [Incremental Project 문제]는 상당히 머리가 아프게 만든 문제였다.\n",
    "여러 사고방식을 통해 문제를 해결하려고 노력했고 결국 한글만을 순수 텍스트 단어로 뽑아낼 수 있었다.\n",
    "다만 순수 텍스트 문자열에 영어가 있다면 그 문자열은 인식하지 않아서 한국어가 있는 사이트에만 제대로 적용될 수 있다는 점이 아쉬운 코드다.\n",
    "### 전하고자 하는 말\n",
    "좀 더 나은 [Incremental Project 문제] 해결책이 있다면 메일로 보내주셨으면 합니다."
   ]
  }
 ],
 "metadata": {
  "kernelspec": {
   "display_name": "Python 3",
   "language": "python",
   "name": "python3"
  },
  "language_info": {
   "codemirror_mode": {
    "name": "ipython",
    "version": 3
   },
   "file_extension": ".py",
   "mimetype": "text/x-python",
   "name": "python",
   "nbconvert_exporter": "python",
   "pygments_lexer": "ipython3",
   "version": "3.8.8"
  }
 },
 "nbformat": 4,
 "nbformat_minor": 5
}
