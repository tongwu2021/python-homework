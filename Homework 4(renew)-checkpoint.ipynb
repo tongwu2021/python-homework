{
 "cells": [
  {
   "cell_type": "markdown",
   "id": "16955044",
   "metadata": {},
   "source": [
    "# Homework 4\n",
    "========================\n",
    "## 스크립트프로그래밍 1분반\n",
    "### 2019136103 이준희"
   ]
  },
  {
   "cell_type": "markdown",
   "id": "776ec58a",
   "metadata": {},
   "source": [
    "## 문제1\n",
    "------------\n",
    "다음 문제를 읽고 알맞은 코드를 제시하시오.\n",
    "\n",
    "* 1) 파일 s.txt 내의 다음 내용과 함께 아래 문제의 코드를 제시하시오.<br>\n",
    "        pig ham\n",
    "        cat dog\n",
    "        ham bird\n",
    "        dog pig"
   ]
  },
  {
   "cell_type": "code",
   "execution_count": 9,
   "id": "2d0a6019",
   "metadata": {},
   "outputs": [],
   "source": [
    "f = open('s.txt','w')\n",
    "s = ['pig ham', 'cat dog', 'ham bird', 'dog pig']\n",
    "\n",
    "for i in (s):\n",
    "    f.write(i)\n",
    "    f.write('\\n')\n",
    "\n",
    "f.close()"
   ]
  },
  {
   "cell_type": "markdown",
   "id": "60ba9017",
   "metadata": {},
   "source": [
    "파일 open() 함수에서 w 모드를 사용할 때 이름에 맞는 파일이 없으면 이름에 맞는 파일을 새로 생성함<br>\n",
    "위의 내용들을 리스트에 넣어서 for 반복문을 사용해 순서대로 넣음"
   ]
  },
  {
   "cell_type": "markdown",
   "id": "f939d2ba",
   "metadata": {},
   "source": [
    "* 2) 파일 s.txt을 읽어서 각 라인에 있는 첫 번째 단어(문자열) 자체들을 기준으로 라인별 정렬후 파일 s1.txt에 그 결과를 기록하는 코드를 작성하시오. 즉, 프로그램 수행 후 s1.txt에 있는 파일 내용은 다음과 같다.\n",
    "\n",
    "        cat dog\n",
    "        dog pig\n",
    "        ham bird\n",
    "        pig ham"
   ]
  },
  {
   "cell_type": "code",
   "execution_count": 10,
   "id": "9c11f21a",
   "metadata": {},
   "outputs": [],
   "source": [
    "f = open('s.txt', 'r')\n",
    "f2 = open('s1.txt','w')\n",
    "\n",
    "s = f.read()\n",
    "f.close()\n",
    "s = s.split('\\n')\n",
    "s.remove('')\n",
    "\n",
    "for i in sorted(new_s):\n",
    "    f2.write(i)\n",
    "    f2.write('\\n')\n",
    "\n",
    "f2.close()"
   ]
  },
  {
   "cell_type": "markdown",
   "id": "56ae8e65",
   "metadata": {},
   "source": [
    "f는 s.txt를 읽기 모드로 열고, f2는 s1.txt를 쓰기 모드로 새로 생성해서 for 반복문과 sorted 함수를 이용해 첫 번째 단어를 기준으로 정렬하여 s1.txt에 저장한다."
   ]
  },
  {
   "cell_type": "markdown",
   "id": "87b797d8",
   "metadata": {},
   "source": [
    "* 3) 파일 s.txt을 읽어서 각 라인에 있는 두 번째 단어(문자열) 자체들을 기준으로 라인별 정렬후 파일 s2.txt에 그 결과를 기록하는 코드를 작성하시오. 즉, 프로그램 수행 후 s2.txt에 있는 파일 내용은 다음과 같다.\n",
    "\n",
    "        ham bird\n",
    "        cat dog\n",
    "        pig ham\n",
    "        dog pig"
   ]
  },
  {
   "cell_type": "code",
   "execution_count": 11,
   "id": "9bf8e6eb",
   "metadata": {},
   "outputs": [],
   "source": [
    "f = open('s.txt', 'r')\n",
    "f2 = open('s2.txt','w')\n",
    "s = f.read()\n",
    "f.close()\n",
    "s = s.split('\\n')\n",
    "s.remove('')\n",
    "\n",
    "for i in sorted(s, key = lambda x : x[1]):\n",
    "    f2.write(i)\n",
    "    f2.write('\\n')\n",
    "\n",
    "f2.close()"
   ]
  },
  {
   "cell_type": "markdown",
   "id": "51181e2c",
   "metadata": {},
   "source": [
    "f는 s.txt를 읽기 모드로 열고, f2는 s2.txt를 쓰기 모드로 새로 생성해서 1-2 코드에서 sorted 함수의 key에서 두 번째 단어를 기준으로 정렬시키면 된다."
   ]
  },
  {
   "cell_type": "markdown",
   "id": "972b540c",
   "metadata": {},
   "source": [
    "* 4) 파일 s.txt을 읽어서 각 라인들에 있는 모든 단어들을 순차적으로 다시 나열하되 각 라인에 세 개의 단어들이 오도록 하여 s3.txt에 기록하는 코드를 작성하시오. 즉, 프로그램 수행 후 s3.txt에 있는 파일 내용은 다음과 같다.\n",
    "\n",
    "        pig ham cat\n",
    "        dog ham bird\n",
    "        dog pig"
   ]
  },
  {
   "cell_type": "code",
   "execution_count": 12,
   "id": "6d29441d",
   "metadata": {},
   "outputs": [],
   "source": [
    "count = 0\n",
    "\n",
    "f = open('s.txt','r')\n",
    "f2 = open('s3.txt','w')\n",
    "\n",
    "s = f.read()\n",
    "s = s.replace('\\n',' ')\n",
    "s = s.split(' ')\n",
    "s.remove('')\n",
    "\n",
    "for i in s:\n",
    "    count += 1\n",
    "    f2.write(i)\n",
    "    f2.write(' ')\n",
    "    if ( count == 3):\n",
    "        count = 0\n",
    "        f2.write('\\n')    \n",
    "    \n",
    "f.close()\n",
    "f2.close()"
   ]
  },
  {
   "cell_type": "markdown",
   "id": "a2c58a71",
   "metadata": {},
   "source": [
    "f는 s.txt를 읽기 모드로 열고, f2는 s3.txt를 쓰기 모드로 새로 생성하고, 한 줄에 있는 단어 수를 셀 count를 0으로 선언한다.<br>\n",
    "replace와 split을 이용해 단어 한 개씩 나누고 for반복문을 이용해 f2의 한 줄에 단어 3개가 들어가면 count를 0으로 바꾸고 줄을 바꾼다."
   ]
  },
  {
   "cell_type": "markdown",
   "id": "9eae752a",
   "metadata": {},
   "source": [
    "## 문제2\n",
    "------------\n",
    "다음과 같은 조건들을 참고하여 회원 가입 및 로그인 프로그램을 작성하시오.\n",
    "* 1) 프로그램 시작 후 다음과 같은 메시지가 출력되어 1, 2, 3 중 하나의 값을 입력 받도록 한다.\n",
    "        Welcome to Our Service\n",
    "\n",
    "        A. Sign Up\n",
    "        B. Sign In\n",
    "        C. Quit\n",
    "* 2) 1을 선택하면 ID, Password, Name, School의 4가지 정보를 입력받아 파일에 저장하는 프로그램을 작성한다.\n",
    "    * 2-1) 입력된 내용은 access.txt 라는 이름의 텍스트 파일 내에 저장된다.\n",
    "    * 2-2) access.txt 파일의 각 라인에는 가입된 회원 각각의 정보가 \"[id]: [password], [name], [school]\" 형태로 저장된다.\n",
    "    * 2-3) 즉, 가입 회원이 10명이면 access.txt 파일 내에 라인 수도 정확히 10개이다.\n",
    "    * 2-4) 암호화 방식은 sha 모듈을 활용한다. sha 모듈 활용 방법은 본 문제의 마지막에 제시된 sha 활용 예를 참고한다.\n",
    "        * 즉, access.txt 파일 내에 password 정보는 암호화 되어 저장되어야 한다.\n",
    "    * 2-5) 회원 정보를 입력 받을 때 id를 입력 받은 직후 access.txt를 확인하여 이미 존재하는 id가 입력되었다면 다음 메시지를 출력하고 id 정보를 다시 입력받는다.\n",
    "        * Sorry, the entered ID is already used.\n",
    "* 3) 2를 선택하면 ID, Password의 2가지 정보를 입력받는 프로그램을 작성한다.\n",
    "    * 3-1) 입력된 ID 정보가 access.txt에 존재하지 않으면 다음과 같은 메시지를 출력하고 다시 입력받는다.\n",
    "        * Sorry, you are not a registered member.\n",
    "    * 3-2) 입력된 ID가 올바르게 존재하지만 Password 정보가 access.txt 파일에 있는 정보와 불일치하면 다음과 같은 메시지를 출력하고 Password를 다시 입력받는다.\n",
    "        * Sorry, the entered password is not correct.\n",
    "        * 이 때에도 사용자가 입력한 Password 정보와 함께 sha 모듈이 활용되어야 한다.\n",
    "    * 3-3) 입력된 ID와 Password가 모두 올바르면 다음과 같은 메시지를 출력한다.\n",
    "        * Hello [name]!\n",
    "        * 위 [name]에는 access.txt에 기록되어 있는 name 정보를 출력한다.\n",
    "* 4) 3을 선택하면 프로그램이 끝난다.\n",
    "* [참고] sha 모듈 활용 예\n"
   ]
  },
  {
   "cell_type": "code",
   "execution_count": 2,
   "id": "beb4180f",
   "metadata": {},
   "outputs": [
    {
     "name": "stdout",
     "output_type": "stream",
     "text": [
      "<ripemd160 HASH object @ 0x0000023D72244110>\n"
     ]
    }
   ],
   "source": [
    "import hashlib\n",
    "hasher = hashlib.sha1()\n",
    "password_plain = 'ripemd160'\n",
    "password_encrypted = hashlib.new(password_plain)\n",
    "password_encrypted.hexdigest()\n",
    "print(password_encrypted)"
   ]
  },
  {
   "cell_type": "code",
   "execution_count": 5,
   "id": "76a1662b",
   "metadata": {},
   "outputs": [
    {
     "name": "stdout",
     "output_type": "stream",
     "text": [
      "Welcome to Our Service\n",
      "1. Sign Up\n",
      "2. Sign In\n",
      "3. Quit\n",
      "Choose number: 1\n",
      "ID : she\n",
      "Sorry, the entered ID is already used.\n",
      "ID : he\n",
      "Password : 1234\n",
      "Name : jun4\n",
      "School : middle\n",
      "Welcome to Our Service\n",
      "1. Sign Up\n",
      "2. Sign In\n",
      "3. Quit\n",
      "Choose number: 2\n",
      "ID : im\n",
      "Sorry, you are not a registered member.\n",
      "ID : he\n",
      "Password : 1235\n",
      "Sorry, the entered password is not correct\n",
      "Password : 1234\n",
      "hello jun!\n",
      "Welcome to Our Service\n",
      "1. Sign Up\n",
      "2. Sign In\n",
      "3. Quit\n",
      "Choose number: 3\n"
     ]
    }
   ],
   "source": [
    "import hashlib\n",
    "\n",
    "def hash_password(password):\n",
    "    hasher = hashlib.sha1()\n",
    "    password_encrypted = hashlib.new('ripemd160')\n",
    "    password_encrypted.update(password.encode())\n",
    "    return password_encrypted.hexdigest()\n",
    "\n",
    "def menu():\n",
    "    print(\"Welcome to Our Service\")\n",
    "    print(\"1. Sign Up\")\n",
    "    print(\"2. Sign In\")\n",
    "    print(\"3. Quit\")\n",
    "\n",
    "def check_id(id_test, Id):\n",
    "    for i in id_test:\n",
    "        num = i.find(':')\n",
    "        if ( Id == i[:num]):\n",
    "            return True\n",
    "    return False\n",
    "\n",
    "def check_password(id_test, Id):\n",
    "    for i in id_test:\n",
    "        Id = hash_password(Id)\n",
    "        num1 = i.find(':')\n",
    "        num2 = i.find(',')\n",
    "        if(Id == i[num1+2:num2]):\n",
    "            num3 = i.find(',', num2+1)\n",
    "            return i[num2+2:num3]\n",
    "        return False\n",
    "    \n",
    "def Sign_up():\n",
    "    f = open('access.txt','a')\n",
    "    f.close()\n",
    "    \n",
    "    f = open('access.txt','r')\n",
    "    id_test = f.read()\n",
    "    f.close()\n",
    "    id_test = id_test.split('\\n')\n",
    "    \n",
    "    while(1):\n",
    "        Id = input(\"ID : \")\n",
    "        if ( check_id(id_test, Id)):\n",
    "            print('Sorry, the entered ID is already used.')\n",
    "        else:\n",
    "            break\n",
    "            \n",
    "    Password = input(\"Password : \")\n",
    "    Name = input(\"Name : \")\n",
    "    School = input(\"School : \")\n",
    "    \n",
    "    password = hash_password(Password)\n",
    "    \n",
    "    s = \"{}: {}, {}, {}\".format(Id, password, Name, School)\n",
    "    f = open('access.txt','a')\n",
    "    f.write(s)\n",
    "    f.write('\\n')\n",
    "    f.close()\n",
    "\n",
    "def Sign_in():\n",
    "    f = open('access.txt','r')\n",
    "    id_test = f.read()\n",
    "    f.close()\n",
    "    id_test = id_test.split('\\n') \n",
    "        \n",
    "    while(1):\n",
    "        Id = input(\"ID : \")\n",
    "        if ( not check_id(id_test, Id)):\n",
    "            print('Sorry, you are not a registered member.')\n",
    "        else:\n",
    "            break\n",
    "            \n",
    "    while(1):\n",
    "        Password = input(\"Password : \")\n",
    "        if ( not check_password( id_test, Password) ):\n",
    "            print('Sorry, the entered password is not correct')\n",
    "        else:\n",
    "            print( 'hello '+check_password(id_test, Password) +'!')\n",
    "            break  \n",
    "    \n",
    "\n",
    "def choose(select):\n",
    "    if(select == 1): \n",
    "        Sign_up()\n",
    "    elif(select == 2):\n",
    "        Sign_in()\n",
    "    elif(select == 3):\n",
    "        return\n",
    "\n",
    "select = 0\n",
    "\n",
    "while(select != 3):\n",
    "    menu()    \n",
    "    select = int(input(\"Choose number: \"))\n",
    "    choose(select)\n",
    "    "
   ]
  },
  {
   "cell_type": "markdown",
   "id": "54cc90b9",
   "metadata": {},
   "source": [
    "Sign_up() 함수에서는 access.txt가 없을 경우를 대비해 open('access.txt','a')를 사용하는데 'w'를 쓰지 않는 이유는 내용이 초기화될 가능성이 있기 때문이다.<br>\n",
    "그 후 'r'모드로 다시 access.txt를 열어 내용을 가지고 와 find()함수와 if 반복문, while 반복문을 이용해 입력한 ID가 이미 존재할 경우 이에 대한 메세지를 출력하고 다시 id 입력으로 돌아온다.<br>\n",
    "나머지 3개 값을 입력하고 password는 암호화 하며, format과 'w'모드를 이용해 access.txt에 값을 입력한다.<br>\n",
    "여기서 id를 비교하는 방법은 ':' 뒤에 id 부분이므로 ':' 부분의 인덱스를 찾아 그 이전의 값과 입력된 id를 비교하면 된다.<br>\n",
    "Sign_in() 함수에서는 access.txt를 'r'모드로 열어 내용을 읽어온 다음 입력한 id가 access.txt에 존재하지 않으면 이에 대한 메세지를 출력하게 만든다.<br>\n",
    "id를 비교하는 방법은 위의 설명과 같으며 비밀번호는 ':' 다음 ','전이므로 이에 속하는 내용을 찾으면 되고, name은 첫번째','에서 두번째 ',' 사이의 내용물이므로 이를 찾으면 된다."
   ]
  },
  {
   "cell_type": "markdown",
   "id": "9e52157c",
   "metadata": {},
   "source": [
    "## 문제3\n",
    "------------\n",
    "range() 함수와 유사한 frange() 함수를 다음 조건을 참고하여 만드시오.\n",
    "\n",
    "* 1) frange()의 인자 구성은 다음과 같이 range와 동일하지만 각 인수들은 음수를 받지 않는다고 가정한다.\n",
    "        range(stop)\n",
    "        range(start, stop[, step])\n",
    "\n",
    "* 2) frange() 함수의 인자에 대한 기본 시작(start) 값은 0.0이고, 기본 단계(step) 값은 0.1이다.\n",
    "* 3) frange 사용 예\n",
    "    * 3-1) frange(0.5)\n",
    "        * [0.0, 0.1, 0.2, 0.3, 0.4]\n",
    "    * 3-2) frange(1.0, 2.0)\n",
    "        * [1.0, 1.1, 1.2, 1.3, 1.4, 1.5, 1.6, 1.7, 1.8, 1.9]\n",
    "    * 3-3) frange(2.2, 4.0, 0.5)\n",
    "        * [2.2, 2.7, 3.2, 3.7]"
   ]
  },
  {
   "cell_type": "code",
   "execution_count": 12,
   "id": "9369d0ec",
   "metadata": {},
   "outputs": [
    {
     "name": "stdout",
     "output_type": "stream",
     "text": [
      "[0.0, 0.1, 0.2, 0.3, 0.4]\n",
      "[1.0, 1.1, 1.2, 1.3, 1.4, 1.5, 1.6, 1.7, 1.8, 1.9]\n",
      "[2.2, 2.7, 3.2, 3.7]\n"
     ]
    }
   ],
   "source": [
    "def frange(start, stop=None, step = None):\n",
    "    l=[]\n",
    "    if(stop == None):\n",
    "        stop = start\n",
    "        start = 0.0\n",
    "    if(step == None):\n",
    "        step = 0.1\n",
    "    while start < stop:\n",
    "        l.append(start)\n",
    "        start += step\n",
    "    result = []\n",
    "    for i in l:\n",
    "        result.append(round(i,2))\n",
    "    print(result)\n",
    "    \n",
    "frange(0.5)\n",
    "frange(1.0, 2.0)\n",
    "frange(2.2, 4.0, 0.5)"
   ]
  },
  {
   "cell_type": "markdown",
   "id": "4c80b088",
   "metadata": {},
   "source": [
    "기본 start 값을 0으로 두고 기본 step 값 0.1로 설정한다. stop값은 일단 start값과 같게 만든다.<br>\n",
    "stop값이 start값보다 크면 리스트에 start값을 넣고 step 크기만큼 start크기를 증가시킨다.<br>\n",
    "또한 round함수를 사용한 이유는 그냥 print(l)을 할 경우 소수점 자리가 매우 크게 나오는 경우들이 존재하기 때문이다<br>"
   ]
  },
  {
   "cell_type": "markdown",
   "id": "bb46fe96",
   "metadata": {},
   "source": [
    "## 문제4\n",
    "------------\n",
    "가변인수를 받는 함수 sum()을 다음과 같은 조건을 참고하여 구현하시오\n",
    "\n",
    "* sum() 사용 예\n",
    "    \n",
    "    sum()<br>\n",
    "    0\n",
    "\n",
    "    sum(1, 2)<br>\n",
    "    3\n",
    "\n",
    "    sum(1, 2, 3, 4, 5)<br>\n",
    "    15\n",
    "\n",
    "    sum(1, 5, 7, 2, -10)<br>\n",
    "    5"
   ]
  },
  {
   "cell_type": "code",
   "execution_count": 14,
   "id": "98931bae",
   "metadata": {},
   "outputs": [
    {
     "name": "stdout",
     "output_type": "stream",
     "text": [
      "0\n",
      "3\n",
      "15\n",
      "5\n"
     ]
    }
   ],
   "source": [
    "def sum(*num):\n",
    "    result = 0\n",
    "    for i in num:\n",
    "        result += i\n",
    "    print(result)\n",
    "\n",
    "sum()\n",
    "sum(1,2)\n",
    "sum(1,2,3,4,5)\n",
    "sum(1,5,7,2,-10)"
   ]
  },
  {
   "cell_type": "markdown",
   "id": "5a5a901f",
   "metadata": {},
   "source": [
    "튜플 형태로 오는 값을 받기 위해 *args 형태로 값을 받고 튜플에 존재하는 값을 하나씩 더하고 출력하면 된다. "
   ]
  },
  {
   "cell_type": "markdown",
   "id": "792de5a6",
   "metadata": {},
   "source": [
    "## 문제5\n",
    "------------\n",
    "여러 단어로 이루어진 문자열을 입력받아 각 단어의 첫글자로 이루어진 단어를 대문자로 출력하는 myinitial() 함수를 다음 조건을 참고하여 작성하시오.\n",
    "\n",
    "* 1) 다음에 제시되는 함수들을 모두 이용해야 한다.\n",
    "\n",
    "    * split\n",
    "    * map\n",
    "    * join\n",
    "* 2) myinitial() 함수 사용 예\n",
    "\n",
    "    * myinitial(\"as soon as possible\")\n",
    "        * ASAP"
   ]
  },
  {
   "cell_type": "code",
   "execution_count": 15,
   "id": "9487fa07",
   "metadata": {},
   "outputs": [
    {
     "name": "stdout",
     "output_type": "stream",
     "text": [
      "ASAP\n"
     ]
    }
   ],
   "source": [
    "def myinitial(word):\n",
    "    word = list(map(lambda x : x[0], (word.title()).split()))\n",
    "    return \"\".join(word)\n",
    "\n",
    "print(myinitial(\"as soon as possible\"))"
   ]
  },
  {
   "cell_type": "markdown",
   "id": "345e4904",
   "metadata": {},
   "source": [
    "title()을 사용해 단어의 첫번째 글자를 대문자로 바꾸고 split()으로 나뉜 단어들을 나눠서 x[0]를 사용해 첫 번째 단어들을 join() 함수를 사용해 조립한다."
   ]
  },
  {
   "cell_type": "markdown",
   "id": "f0344484",
   "metadata": {},
   "source": [
    "## 문제6\n",
    "------------\n",
    "음이 아닌 정수 n를 입력받으면 n! (factorial)을 계산하는 myfact() 함수를 재귀적 함수로 구현하시오.\n",
    "* [옵션] 참을 수 있는 정도 만큼의 수행시간을 직접 기다려보면서 n을 늘려보도록 합시다."
   ]
  },
  {
   "cell_type": "code",
   "execution_count": 19,
   "id": "5cc6c27a",
   "metadata": {},
   "outputs": [
    {
     "name": "stdout",
     "output_type": "stream",
     "text": [
      "25008239333154426241444282836647195133101453270037117999200556759928201767792063359503953978551619231853592896838522120372504117327096883815556954631025675700534651174060459006493124913904427010120867074202379617717042219641053340223694924571739974384003268396749285701396215668036909169764626431945248716544691158575968458641027859729809212903428403159341574065149351940090142377326289879454772914743384498671241362897098650363556106257179631141683111534689776601834331084285834484352340222242554953015126584919607709382305095104415583645729367770975345505298324128220727686510024678417667822145306783791455712023868222022823383855907527994854059260031889405838297576133789101528094573494944110814578533915626007840492280660680639560841837565638583680837225139642496474759933392813070120148771767902672767630597900401380040449226264461942643423034996090764044308581581419108465526676819377102788977252339919841734909804156493314021318656705997924686367549548644379169876989548971478383268469153819731090834246176948780883683375065705757488223648256994415460635320853387395025130897313930998631195057288877415360760622482425065415830855304828000275418230366524773478604710920871881436214815114695995429959459897208787503198532227798866623280333629786774643989300599698571456261775253152201726307483635213427475010164773560363306441978167244004405046688952709352039623992304438887790158769819311762857127606488223334665877620023675131080118406605452322356240816254840279807175900751194467165956759535160970707928217158794647419285751093313077722297977244960966120887146170945141663221345911980565024376989109846245194295441297971928054434477427521231996189452504115625735628817552754596777538688518247794938719063101459063670229956995055616000000000000000000000000000000000000000000000000000000000000000000000000000000000000000000000000000000000000000000000000000000000000000000000000000000000000000000000000000000000000000000000000000\n"
     ]
    }
   ],
   "source": [
    "def myfact(n):\n",
    "    if ( n == 1):\n",
    "        return 1\n",
    "    else:\n",
    "        return n*myfact(n-1)\n",
    "    \n",
    "print(myfact(785))"
   ]
  },
  {
   "cell_type": "markdown",
   "id": "0699f924",
   "metadata": {},
   "source": [
    "재귀함수에서 무한반복이 도지 않도록 n이 1일 때 1을 반환하도록 하고 n*myfact(n-1)을 통해 재귀함수를 구현한다."
   ]
  },
  {
   "cell_type": "markdown",
   "id": "45b97039",
   "metadata": {},
   "source": [
    "## 문제7\n",
    "------------\n",
    "(서술형) import string 과 from string import * 의 차이점을 설명하시오."
   ]
  },
  {
   "cell_type": "markdown",
   "id": "cdc01904",
   "metadata": {},
   "source": [
    "import string은 string 모듈에 있는 이름 그대로를 사용해서 접근하는 반면 from string import *은 모듈 이름 없이 직접 사용이 가능하다는 차이가 있다."
   ]
  },
  {
   "cell_type": "markdown",
   "id": "9daf13c5",
   "metadata": {},
   "source": [
    "## [Incremental Project 문제]\n",
    "----------------------------------------\n",
    "#### 이전 Assignment 3의 마지막 문제는 웹 URL로 지정된 웹페이지를 문자열로 가져와 모든 HTML 태그 및 CSS와 Javascript를 제외한 순수 텍스트를 얻어내고 그 안에 존재하는 단어를 추출하여 각 단어들에 대해 출현빈도를 사전형태({'world': 2, 'hello': 1, 'python': 1})로 저장하여 출력하는 것이었다. 이번에는 Assignment 3를 확장하여 다음과 같은 조건을 만족하도록 구현하시오.\n",
    "* 1) 다음 사이트에서 제시되는 불용어 (Stop words)를 참고하여 이전 숙제에서 구성했던 단어 사전에서 불용어들을 모두 제거하는 코드를 추가하시오.\n",
    "    * 영어 불용어: https://countwordsfree.com/stopwords\n",
    "        * 화면 상단 오른쪽 txt 파일 다운 받아 활용\n",
    "    * 한글 불용어: https://raw.githubusercontent.com/stopwords-iso/stopwords-ko/master/stopwords-ko.txt\n",
    "* 2) 각 URL로 지정된 웹페이지의 HTML 소스를 파일로 저장하시오.\n",
    "    * URL이 http://URL 이라면 파일명은 URL.html 이다.\n",
    "        * 예: URL이 http://www.cnn.com 이라면 파일명은 www.cnn.com.html 이다.\n",
    "* 3) 단어의 출현빈도가 담긴 사전 객체를 위 HTML 소스 파일과 동일한 폴더에 파일로 저장하시오.\n",
    "    * 파일입출력 (E-learning 13주차) 마지막에 학습한 pickle 모듈을 활용하시오.\n",
    "    * URL이 http://URL 이라면 사전 객체를 담고 있는 파일명은 URL.words_frequency.pickle 이다.\n",
    "        * 예: URL이 http://www.cnn.com 이라면 파일명은 www.cnn.com.words_frequency.pickle 이다.\n",
    "* 4) 최소 5개 이상의 웹 사이트 각각에 대한 HTML 소스 파일과 단어 출현빈도 파일을 저장하시오.\n",
    "    * 즉, 5개의 웹 사이트에 대해 총 10개의 파일을 동일한 폴더에 생성하시오.\n",
    "    * [주의] 가능하면 웹사이트에 단어들이 많고 다루는 주제가 서로 다른 웹 사이트들로 선정하는 것 추천\n",
    "* 5) 위 문제에서 저장한 모든 pickle 파일들을 객체로 다시 로드하여 본인이 저장하여 분석한 사이트들 각각에 대해서 가장 많이 출현한 단어 3개씩를 뽑아 제시하시오.\n",
    "    * 반드시 pickle 모듈로 저장한 5개 이상의 pickle 파일들을 다시 5개 이상의 사전 객체로 로드 하는 코드가 추가되어야 함\n",
    "* 6) 간단한 검색엔진 코딩 (Like Google!!!)\n",
    "    * 사용자에게 임의의 검색어 (하나 또는 여러 단어로 구성) 를 입력받으시오.\n",
    "        * 예:\n",
    "            * 대한민국\n",
    "            * 컴퓨터 공학\n",
    "            * 맛있는 음식\n",
    "            * 파이썬\n",
    "            * 한기대 장점\n",
    "    * 입력받은 검색어들에 대해서도 1)에서 제시하는 방법처럼 불용어 처리를 하여 정리\n",
    "    * 입력 받은 검색어와 유사도(Similarity)가 높은 웹 사이트 기준으로 위 4)에서 미리 지정해 놓은 5개 이상의 웹 사이트 URL들을 일렬로 나열하여 출력하시오.\n",
    "        * 검색어와 웹 사이트 간의 유사도는 본인이 스스로 정하시오.\n",
    "        * 유사도를 정하는 최소한의 기준은 단어 출현 빈도를 기반으로 해야 하며, 이외의 본인이 생각하는 방안이 있으면 함께 사용해도 됨.\n",
    "        * 유사도가 높은 웹 사이트가 상위에 출력되어야 함 (즉, 유사도 기준 내림 차순)\n",
    "        * 유사도가 동일한 웹 사이트들에 대해서는 임의 배치함.\n",
    "* 7) [주의] 필수사항\n",
    "    * 위에서 만든 검색엔진 코딩은 매우 간단한 것이라 부족한 점이 많이 존재한다.\n",
    "    * 본인이 생각하기에 상업적인 완성도 높은 검색 로봇/엔진이 되려면 어떤 기능들이 추가적으로 구현되어야 할지 최소 1가지 이상 제시하시오."
   ]
  },
  {
   "cell_type": "code",
   "execution_count": 51,
   "id": "5abb0a2f",
   "metadata": {},
   "outputs": [],
   "source": [
    "import requests\n",
    "import string\n",
    "\n",
    "def remove_word(l):\n",
    "    f = open('change.txt','r')\n",
    "    s = f.read()\n",
    "    f.close()\n",
    "    s = s.split('\\n')\n",
    "    for i in l:\n",
    "        for j in s:\n",
    "            if (i[1:-1]==j):\n",
    "                l.remove(i)\n",
    "def main(url):\n",
    "    f = open(\"change.txt\", 'a')\n",
    "    f.close()\n",
    "    req = requests.get(url)\n",
    "    source = req.text\n",
    "\n",
    "    source = source.strip()\n",
    "    word = ''\n",
    "    check = True\n",
    "    result = []\n",
    "    result2 = []\n",
    "    index = 0\n",
    "\n",
    "    for i in range(len(source)):\n",
    "        if (source[i] == '>' and check == False):\n",
    "                check = True\n",
    "                continue\n",
    "        if (source[i] == '<'):\n",
    "                check = False\n",
    "                continue\n",
    "        if(check == True):\n",
    "            word += source[i]\n",
    "\n",
    "    result = word.split()\n",
    "\n",
    "    for i in range(len(result)): \n",
    "        result[i] = ''.join(a for a in result[i] if a not in string.punctuation)\n",
    "    result = ' '.join(result).split()\n",
    "    result.sort()\n",
    "\n",
    "    remove_word(result)\n",
    "    dict_result = {}\n",
    "\n",
    "    for i in result:\n",
    "        if i in dict_result:\n",
    "            dict_result[i] += 1\n",
    "        else:\n",
    "            dict_result[i] = 1\n",
    "    return dict_result"
   ]
  },
  {
   "cell_type": "markdown",
   "id": "2e3d46fc",
   "metadata": {},
   "source": [
    "Homework3에서 result 리스트를 dict로 변환하기 전에 불용어가 담겨져있는 change.txt를 열어 같은 단어가 존재할 경우 result 리스트에서 그 단어를 제거한다. 여기서 result 리스트 단어 앞뒤에는 '가 있으므로 슬라이싱을 사용해 순수 단어를 뽑아내 비교해야 한다."
   ]
  },
  {
   "cell_type": "code",
   "execution_count": 40,
   "id": "f5c90d81",
   "metadata": {},
   "outputs": [],
   "source": [
    "def Source(s):\n",
    "    url = s\n",
    "    f = request.urlopen(url)\n",
    "    source_bytes = f.read()\n",
    "    source = source_bytes.decode('utf-8')\n",
    "    return source\n",
    "\n",
    "a=Source('https://www.cgv.co.kr/')\n",
    "f=open('www.cgv.co.kr.html.txt', 'w', encoding = 'UTF8')\n",
    "f.write(a)\n",
    "f.close()"
   ]
  },
  {
   "cell_type": "code",
   "execution_count": 44,
   "id": "a4491ea8",
   "metadata": {},
   "outputs": [],
   "source": [
    "c=Source('https://lostark.game.onstove.com/Main')\n",
    "f=open('lostark.game.onstove.com.html.txt', 'w', encoding = 'UTF8')\n",
    "f.write(c)\n",
    "f.close()"
   ]
  },
  {
   "cell_type": "code",
   "execution_count": 45,
   "id": "cfb9172f",
   "metadata": {},
   "outputs": [],
   "source": [
    "d=Source('https://dorm.koreatech.ac.kr/')\n",
    "f=open('dorm.koreatech.ac.kr.html.txt', 'w', encoding = 'UTF8')\n",
    "f.write(d)\n",
    "f.close()"
   ]
  },
  {
   "cell_type": "code",
   "execution_count": 46,
   "id": "3115ecec",
   "metadata": {},
   "outputs": [],
   "source": [
    "e=Source('https://coloso.co.kr/')\n",
    "f=open('coloso.co.kr.html.txt', 'w', encoding = 'UTF8')\n",
    "f.write(e)\n",
    "f.close()"
   ]
  },
  {
   "cell_type": "code",
   "execution_count": 48,
   "id": "3b14c2cc",
   "metadata": {},
   "outputs": [],
   "source": [
    "b=Source('http://www.kyobobook.co.kr/')\n",
    "f=open('www.kyobobook.co.kr.html.txt', 'w', encoding = 'UTF8')\n",
    "f.write(b)\n",
    "f.close()"
   ]
  },
  {
   "cell_type": "markdown",
   "id": "31f8894e",
   "metadata": {},
   "source": [
    "encoding = 'UTF8'을 하지 않으면  UnicodeEncodeError가 나오므로 주의해야 함"
   ]
  },
  {
   "cell_type": "code",
   "execution_count": 53,
   "id": "c177bb0b",
   "metadata": {},
   "outputs": [],
   "source": [
    "import pickle\n",
    "\n",
    "s = 'https://www.cgv.co.kr/'\n",
    "c = main(s)\n",
    "f = open('www.cgv.co.kr.words_frequency.pickle', 'wb')\n",
    "pickle.dump(c,f)"
   ]
  },
  {
   "cell_type": "code",
   "execution_count": 54,
   "id": "fe204c17",
   "metadata": {},
   "outputs": [],
   "source": [
    "s = 'https://lostark.game.onstove.com/Main'\n",
    "c = main(s)\n",
    "f = open('lostark.game.onstove.com.words_frequency.pickle', 'wb')\n",
    "pickle.dump(c,f)"
   ]
  },
  {
   "cell_type": "code",
   "execution_count": 55,
   "id": "1c16bf00",
   "metadata": {},
   "outputs": [],
   "source": [
    "s = 'https://dorm.koreatech.ac.kr/'\n",
    "c = main(s)\n",
    "f = open('dorm.koreatech.ac.kr.words_frequency.pickle', 'wb')\n",
    "pickle.dump(c,f)"
   ]
  },
  {
   "cell_type": "code",
   "execution_count": 56,
   "id": "404834a7",
   "metadata": {},
   "outputs": [],
   "source": [
    "s = 'https://coloso.co.kr/'\n",
    "c = main(s)\n",
    "f = open('coloso.co.kr.words_frequency.pickle', 'wb')\n",
    "pickle.dump(c,f)"
   ]
  },
  {
   "cell_type": "code",
   "execution_count": 57,
   "id": "5033c29d",
   "metadata": {},
   "outputs": [],
   "source": [
    "s = 'http://www.kyobobook.co.kr/'\n",
    "c = main(s)\n",
    "f = open('www.kyobobook.co.kr.words_frequency.pickle', 'wb')\n",
    "pickle.dump(c,f)"
   ]
  },
  {
   "cell_type": "markdown",
   "id": "64eec3d0",
   "metadata": {},
   "source": [
    "pickle.dump()를 사용하기 위해선 이진파일로 열어야 하기 때문에 'wb'로 열음"
   ]
  },
  {
   "cell_type": "code",
   "execution_count": 58,
   "id": "6b2a99b9",
   "metadata": {},
   "outputs": [],
   "source": [
    "import sys\n",
    "\n",
    "def MostWords(d):\n",
    "    m=0\n",
    "    n=sys.maxsize\n",
    "    l={}\n",
    "    check = 0\n",
    "    for x in range(3):\n",
    "        for z in d:\n",
    "            if(n> d[z] > m):\n",
    "                m=d[z]\n",
    "        for z in d:\n",
    "            if(d[z] == m):\n",
    "                l[z]=d[z] \n",
    "        n=m\n",
    "        m=0\n",
    "    print(l)"
   ]
  },
  {
   "cell_type": "code",
   "execution_count": 59,
   "id": "43695215",
   "metadata": {},
   "outputs": [
    {
     "name": "stdout",
     "output_type": "stream",
     "text": [
      "{'var': 31, 'function': 28, 'if': 10}\n",
      "{'더보기': 7, '로스트아크': 7, '3주년': 6, '가이드': 5, '이벤트': 5}\n",
      "{'20211126': 6, '생활관': 4, '130101': 3, '계란말이': 3, '계란후라이': 3, '김치': 3, '김칫국': 3, '깍두기': 3, '백미밥': 3, '버섯전': 3, '북어채묵국': 3, '소세지야채볶음': 3, '육개장': 3, '잡곡밥': 3, '한기대': 3, '현미밥': 3}\n",
      "{'노하우를': 60, 'solid': 55, '캐릭터': 46}\n",
      "{'var': 9, 'new': 2, 'strRef': 2, '3F': 1, 'AndroidiPhoneiPadsplit': 1, 'Stringdocumentlocationsearch': 1, 'Stringdocumentreferrer': 1, 'chkAgentArr': 1, 'chkRslt': 1, 'chkRslttrue': 1, 'else': 1, 'false': 1, 'forvar': 1, 'idx0chkRsltidx1': 1, 'ifchkRslt': 1, 'ifstrSearchlength0strflagstrReflength0strrefelsestrflagstrReflength0strref': 1, 'ifuserAgentInfo': 1, 'locationhref': 1, 'locationreplacehttpmobilekyobobookcokrstrparam': 1, 'locationreplacehttpwwwkyobobookcokrindexlafstrparam': 1, 'navigatoruserAgent': 1, 'replaceg': 1, 'strRefreplaceg': 1, 'strSearch': 1, 'strflag': 1, 'strparamstrSearchstrflag': 1, 'strrefOVREFFERstrRef': 1, 'url': 1, 'userAgentInfo': 1}\n"
     ]
    }
   ],
   "source": [
    "f = open('www.cgv.co.kr.words_frequency.pickle', 'rb')\n",
    "d = pickle.load(f)\n",
    "MostWords(d)\n",
    "\n",
    "f = open('lostark.game.onstove.com.words_frequency.pickle', 'rb')\n",
    "d = pickle.load(f)\n",
    "MostWords(d)\n",
    "\n",
    "f = open('dorm.koreatech.ac.kr.words_frequency.pickle', 'rb')\n",
    "d = pickle.load(f)\n",
    "MostWords(d)\n",
    "\n",
    "f = open('coloso.co.kr.words_frequency.pickle', 'rb')\n",
    "d = pickle.load(f)\n",
    "MostWords(d)\n",
    "\n",
    "f = open('www.kyobobook.co.kr.words_frequency.pickle', 'rb')\n",
    "d = pickle.load(f)\n",
    "MostWords(d)"
   ]
  },
  {
   "cell_type": "markdown",
   "id": "16037285",
   "metadata": {},
   "source": [
    "m은 최대값, n은 이전 최대값보다 작은 최대값을 저장하기 위한 변수로 for 반복문을 이용해 개수가 제일 많은 거부터 3개를 뽑는다.<br>\n",
    "파일로부터 정보를 읽을 때는 pickle.load()을 사용하는데 'wb'로 파일에 저장했기 때문에 'rb'로 파일을 읽어야한다."
   ]
  },
  {
   "cell_type": "code",
   "execution_count": null,
   "id": "79dea928",
   "metadata": {},
   "outputs": [],
   "source": [
    "def CheckWord(word, inp): \n",
    "    similarity ={}\n",
    "    l=[]\n",
    "    for i in word:\n",
    "        if(inp.lower() in i.lower()):\n",
    "            similarity[i]=word[i]\n",
    "    return similarity\n",
    "def CountTotal(word): \n",
    "    total = 0\n",
    "    for i in word:\n",
    "        total+=word[i]\n",
    "    return total\n",
    "\n",
    "def Sorting(word):\n",
    "    l = sorted(word.values(), reverse = True)\n",
    "    p_x=None\n",
    "    similarity={}\n",
    "    \n",
    "    for x in l:\n",
    "        for y in word:\n",
    "            if(x==word[y]):\n",
    "                similarity[y]=x\n",
    "    for x in similarity:\n",
    "        print(x)\n",
    "\n",
    "wrd = input(\"Enter Word : \")\n",
    "site={'www.cgv.co.kr':0, 'lostark.game.onstove.com':0, 'dorm.koreatech.ac.kr':0\\\n",
    "      ,'coloso.co.kr':0, 'www.kyobobook.co.kr':0}\n",
    "\n",
    "f = open('www.cgv.co.kr.words_frequency.pickle', 'rb')\n",
    "a = pickle.load(f)\n",
    "result_a = CheckWord(a, wrd)\n",
    "\n",
    "f = open('lostark.game.onstove.com.words_frequency.pickle', 'rb')\n",
    "b = pickle.load(f)\n",
    "result_b = CheckWord(b, wrd)\n",
    "\n",
    "f = open('dorm.koreatech.ac.kr.words_frequency.pickle', 'rb')\n",
    "c = pickle.load(f)\n",
    "result_c = CheckWord(c, wrd)\n",
    "\n",
    "f = open('coloso.co.kr.words_frequency.pickle', 'rb')\n",
    "d = pickle.load(f)\n",
    "result_d = CheckWord(d, wrd)\n",
    "\n",
    "f = open('www.kyobobook.co.kr.words_frequency.pickle', 'rb')\n",
    "e = pickle.load(f)\n",
    "result_e = CheckWord(e, wrd)\n",
    "\n",
    "l=[result_a,result_b,result_c,result_d,result_e]\n",
    "\n",
    "count=0\n",
    "for x in site:\n",
    "    site[x]=CountTotal(l[count])\n",
    "    count+=1\n",
    "    \n",
    "Sorting(site)"
   ]
  },
  {
   "cell_type": "markdown",
   "id": "8ddcb5ea",
   "metadata": {},
   "source": [
    "Checkword() 함수는 입력받은 단어가 사전의 키에 포함되어 있으면 similarity 사전객체에 넣고 이를 return한다.<br>\n",
    "CountTotal() 함수는 사전 객체를 받아서 value를 모두 더하고, Sorting() 함수는 출현 빈도가 상위 3개인 사전 객체를 매개변수로 받아와 내림차순으로 정렬한다."
   ]
  },
  {
   "cell_type": "markdown",
   "id": "0a4c5721",
   "metadata": {},
   "source": [
    "7) 사람들은 종종 자기가 생각나는 걸 찾기 위해 검색하는데 그 이름을 까먹는 경우가 많다. 그러니 정확도도 중요하지만 연관성에 대한 기능이 추가적으로 필요하다고 생각한다."
   ]
  },
  {
   "cell_type": "markdown",
   "id": "abd7eed5",
   "metadata": {},
   "source": [
    "### 느낀점\n",
    "이번 과제를 너무 급하게 하다보니까 완전히 이해하지 못하고 진행한 경우가 어느정도 있었던 것 같다. 그리고 순수단어를 완전히 못뽑아낸 게 아쉬운 점이라고 생각한다."
   ]
  }
 ],
 "metadata": {
  "kernelspec": {
   "display_name": "Python 3",
   "language": "python",
   "name": "python3"
  },
  "language_info": {
   "codemirror_mode": {
    "name": "ipython",
    "version": 3
   },
   "file_extension": ".py",
   "mimetype": "text/x-python",
   "name": "python",
   "nbconvert_exporter": "python",
   "pygments_lexer": "ipython3",
   "version": "3.8.8"
  }
 },
 "nbformat": 4,
 "nbformat_minor": 5
}
