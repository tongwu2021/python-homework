{
 "cells": [
  {
   "cell_type": "markdown",
   "id": "e7f18ee7",
   "metadata": {},
   "source": [
    "# Homework 1\n",
    "========================\n",
    "## 스크립트프로그래밍 1분반\n",
    "### 2019136103 이준희"
   ]
  },
  {
   "cell_type": "markdown",
   "id": "a60b22a3",
   "metadata": {},
   "source": [
    "## Slicing과 연결 연산자 사용\n",
    "-----------------------------------------\n",
    "a=\"Hello Python\" 문자열을 Slicing과 연결 연산자 (+)를 사용하여 \"Python Hello\"로 변경하시오.<br>\n",
    "[주의] a 변수 자체에 \"Python Hello\" 문자열이 저장되어야 함"
   ]
  },
  {
   "cell_type": "code",
   "execution_count": 2,
   "id": "fd233e7e",
   "metadata": {
    "scrolled": true
   },
   "outputs": [
    {
     "name": "stdout",
     "output_type": "stream",
     "text": [
      "Python Hello\n"
     ]
    }
   ],
   "source": [
    "a=\"Hello Python\"\n",
    "a1=a[6:]\n",
    "a2=a[:5]\n",
    "a=a1+\" \"+a2\n",
    "print(a)"
   ]
  },
  {
   "cell_type": "markdown",
   "id": "845fb718",
   "metadata": {},
   "source": [
    "슬라이싱은 a[start:end:step]의 구조를 가지고 있다.\n",
    "그래서 a1=a[6:]의 경우는 \"Python\"을 a2=a[:5]의 경우는 \"Hello\" 부분을 저장하게 된다.\n",
    "이를 통해 a는 a1+\" \"+a2 연산을 통해 Python Hello로 저장될 수 있다."
   ]
  },
  {
   "cell_type": "markdown",
   "id": "7dc3ba48",
   "metadata": {},
   "source": [
    "## Slicing과 연결 연산자 사용2\n",
    "-------------------------------------------\n",
    "b=\"Hello Python World\" 문자열을 Slicing과 연결 연산자 (+)를 사용하여 \"World Python Hello\"로 변경하시오.<br>\n",
    "[주의] b 변수 자체에 \"World Python Hello\" 문자열이 저장되어야 함"
   ]
  },
  {
   "cell_type": "code",
   "execution_count": 3,
   "id": "c36e9adf",
   "metadata": {},
   "outputs": [
    {
     "name": "stdout",
     "output_type": "stream",
     "text": [
      "World Python Hello\n"
     ]
    }
   ],
   "source": [
    "b=\"Hello Python World\"\n",
    "b1=b[:5]\n",
    "b2=b[6:12]\n",
    "b3=b[13:18]\n",
    "b=b3+\" \"+b2+\" \"+b1\n",
    "print(b)"
   ]
  },
  {
   "cell_type": "markdown",
   "id": "27e20741",
   "metadata": {},
   "source": [
    "슬라이싱은 a[start:end:step]의 구조를 가지고 있다.\n",
    "그래서 b1, b2, b3는 각각 \"Hello\", \"Python\", \"World\"를 가지게 된다.\n",
    "이를 통해 b는 b3+\" \"+b2+\" \"+b1 연산을 통해 \"World Python Hello\" 값을 저장할 수 있게 된다."
   ]
  },
  {
   "cell_type": "markdown",
   "id": "6eaff841",
   "metadata": {},
   "source": [
    "## Slicing과 연결 연산자 사용3\n",
    "---------------------------------------------\n",
    "c=\"Hello\"를 \"olleH\"로 변경하시오<br>\n",
    "[주의] c 변수 자체에 \"olleH\" 문자열이 저장되어야 함"
   ]
  },
  {
   "cell_type": "code",
   "execution_count": 5,
   "id": "3cf94a85",
   "metadata": {},
   "outputs": [
    {
     "name": "stdout",
     "output_type": "stream",
     "text": [
      "olleH\n"
     ]
    }
   ],
   "source": [
    "c=\"Hello\"\n",
    "c=c[::-1]\n",
    "print(c)"
   ]
  },
  {
   "cell_type": "markdown",
   "id": "dc4c8f23",
   "metadata": {},
   "source": [
    "슬라이싱은 a[start:end:step]의 구조를 가지고 있다. 그래서 c=c[::-1]을 통해 전체를 거꾸로 가져올 수 있다."
   ]
  },
  {
   "cell_type": "markdown",
   "id": "918c0086",
   "metadata": {},
   "source": [
    "## 문제 풀기\n",
    "-----------------\n",
    "s=\"python\"에 대해 다음 문제를 풀어보시오.<br>\n",
    "A. s[0], s[0][0], s[0][0][0]은 각각 어떤 값이 나오는지 확인하고 그 이유를 나름대로 설명해 보시오.<br>\n",
    "B. s[-100], s[100]은 값이 나오는지 에러가 나오는지 확인하고 그 결과에 대한 이유를 나름대로 설명해 보시오.<br>\n",
    "C. s[-100, 100]은 값이 나오는지 에러가 나오는지 확인하고 그 결과에 대한 이유를 나름대로 설명해 보시오.<br>\n",
    "D. s[1:-1]의 결과를 확인하고 그 결과에 대한 이유를 정확하게 설명하시오.<br>\n",
    "E. s[3:-3]의 결과를 확인하고 그 결과에 대한 이유를 정확하게 설명하시오."
   ]
  },
  {
   "cell_type": "code",
   "execution_count": 7,
   "id": "fc300500",
   "metadata": {},
   "outputs": [
    {
     "name": "stdout",
     "output_type": "stream",
     "text": [
      "p\n"
     ]
    }
   ],
   "source": [
    "s=\"python\"\n",
    "print(s[0])"
   ]
  },
  {
   "cell_type": "code",
   "execution_count": 8,
   "id": "ef973c3f",
   "metadata": {},
   "outputs": [
    {
     "name": "stdout",
     "output_type": "stream",
     "text": [
      "p\n"
     ]
    }
   ],
   "source": [
    "print(s[0][0])"
   ]
  },
  {
   "cell_type": "code",
   "execution_count": 9,
   "id": "758ccd3f",
   "metadata": {},
   "outputs": [
    {
     "name": "stdout",
     "output_type": "stream",
     "text": [
      "p\n"
     ]
    }
   ],
   "source": [
    "print(s[0][0][0])"
   ]
  },
  {
   "cell_type": "markdown",
   "id": "a816fb17",
   "metadata": {},
   "source": [
    "A. [0], [0][0], [0][0][0]은 배열의 차원이 다르지만 결국 첫 번째 줄의 첫 번째 시작점을 가리키기에 모두 p가 출력되는 것이다."
   ]
  },
  {
   "cell_type": "code",
   "execution_count": 10,
   "id": "c0f52315",
   "metadata": {},
   "outputs": [
    {
     "ename": "IndexError",
     "evalue": "string index out of range",
     "output_type": "error",
     "traceback": [
      "\u001b[1;31m---------------------------------------------------------------------------\u001b[0m",
      "\u001b[1;31mIndexError\u001b[0m                                Traceback (most recent call last)",
      "\u001b[1;32m<ipython-input-10-dd2baac26746>\u001b[0m in \u001b[0;36m<module>\u001b[1;34m\u001b[0m\n\u001b[1;32m----> 1\u001b[1;33m \u001b[0mprint\u001b[0m\u001b[1;33m(\u001b[0m\u001b[0ms\u001b[0m\u001b[1;33m[\u001b[0m\u001b[1;33m-\u001b[0m\u001b[1;36m100\u001b[0m\u001b[1;33m]\u001b[0m\u001b[1;33m)\u001b[0m\u001b[1;33m\u001b[0m\u001b[1;33m\u001b[0m\u001b[0m\n\u001b[0m",
      "\u001b[1;31mIndexError\u001b[0m: string index out of range"
     ]
    }
   ],
   "source": [
    "print(s[-100])"
   ]
  },
  {
   "cell_type": "code",
   "execution_count": 11,
   "id": "ee1aa0bc",
   "metadata": {},
   "outputs": [
    {
     "ename": "IndexError",
     "evalue": "string index out of range",
     "output_type": "error",
     "traceback": [
      "\u001b[1;31m---------------------------------------------------------------------------\u001b[0m",
      "\u001b[1;31mIndexError\u001b[0m                                Traceback (most recent call last)",
      "\u001b[1;32m<ipython-input-11-4b48abbe85a9>\u001b[0m in \u001b[0;36m<module>\u001b[1;34m\u001b[0m\n\u001b[1;32m----> 1\u001b[1;33m \u001b[0mprint\u001b[0m\u001b[1;33m(\u001b[0m\u001b[0ms\u001b[0m\u001b[1;33m[\u001b[0m\u001b[1;36m100\u001b[0m\u001b[1;33m]\u001b[0m\u001b[1;33m)\u001b[0m\u001b[1;33m\u001b[0m\u001b[1;33m\u001b[0m\u001b[0m\n\u001b[0m",
      "\u001b[1;31mIndexError\u001b[0m: string index out of range"
     ]
    }
   ],
   "source": [
    "print(s[100])"
   ]
  },
  {
   "cell_type": "markdown",
   "id": "7906c3bf",
   "metadata": {},
   "source": [
    "B. s의 배열의 경우 양수로 따지만 5까지 생성되있고, 음수로 읽을 경우에도 -6까지만 생성되있다. 여기서 이를 초과하는 배열을 읽으려는 경우 그 배열에 해당하는 값이 없기에 오류가 발생한다."
   ]
  },
  {
   "cell_type": "code",
   "execution_count": 12,
   "id": "210155ca",
   "metadata": {},
   "outputs": [
    {
     "ename": "TypeError",
     "evalue": "string indices must be integers",
     "output_type": "error",
     "traceback": [
      "\u001b[1;31m---------------------------------------------------------------------------\u001b[0m",
      "\u001b[1;31mTypeError\u001b[0m                                 Traceback (most recent call last)",
      "\u001b[1;32m<ipython-input-12-c209b42beee1>\u001b[0m in \u001b[0;36m<module>\u001b[1;34m\u001b[0m\n\u001b[1;32m----> 1\u001b[1;33m \u001b[0mprint\u001b[0m\u001b[1;33m(\u001b[0m\u001b[0ms\u001b[0m\u001b[1;33m[\u001b[0m\u001b[1;33m-\u001b[0m\u001b[1;36m100\u001b[0m\u001b[1;33m,\u001b[0m \u001b[1;36m100\u001b[0m\u001b[1;33m]\u001b[0m\u001b[1;33m)\u001b[0m\u001b[1;33m\u001b[0m\u001b[1;33m\u001b[0m\u001b[0m\n\u001b[0m",
      "\u001b[1;31mTypeError\u001b[0m: string indices must be integers"
     ]
    }
   ],
   "source": [
    "print(s[-100, 100])"
   ]
  },
  {
   "cell_type": "markdown",
   "id": "2e4febcd",
   "metadata": {},
   "source": [
    "C. 구체적으로는 잘 모르겠지만 배우면서 위와 같은 형태를 본 적은 없다. 비슷한 것이 있다 해도 s에 직접 리스트로 정의하거나 리스트 명령어를 통해 추가, 제거, 탐색하는 등의 형태로 보기만 했을 뿐이다. 잘못된 형태이기 때문에 오류가 났다고 생각을 한다."
   ]
  },
  {
   "cell_type": "code",
   "execution_count": 13,
   "id": "23c91e3c",
   "metadata": {},
   "outputs": [
    {
     "name": "stdout",
     "output_type": "stream",
     "text": [
      "ytho\n"
     ]
    }
   ],
   "source": [
    "print(s[1:-1])"
   ]
  },
  {
   "cell_type": "markdown",
   "id": "bb02ee8b",
   "metadata": {},
   "source": [
    "D. 위에서 -1의 위치는 맨끝이 되고 이를 양수로 다시 바꾸면 s[1:5]가 된다. 따라서 ytho라는 결과를 출력하게 된다."
   ]
  },
  {
   "cell_type": "code",
   "execution_count": 16,
   "id": "0e211ddd",
   "metadata": {},
   "outputs": [
    {
     "name": "stdout",
     "output_type": "stream",
     "text": [
      "\n"
     ]
    }
   ],
   "source": [
    "print(s[3:-3])"
   ]
  },
  {
   "cell_type": "markdown",
   "id": "116d5bce",
   "metadata": {},
   "source": [
    "E. -3의 위치는 3의 위치와 같기 때문에 배열 3 이상과 배열 3 미만의 결과가 합쳐져서 아무것도 출력하지 못한다. "
   ]
  },
  {
   "cell_type": "markdown",
   "id": "2e591d7c",
   "metadata": {},
   "source": [
    "## 반복문\n",
    "-------------\n",
    "for문을 활용하여 1부터 100사이의 홀수를 출력하시오."
   ]
  },
  {
   "cell_type": "code",
   "execution_count": 20,
   "id": "d6e146c1",
   "metadata": {},
   "outputs": [
    {
     "name": "stdout",
     "output_type": "stream",
     "text": [
      "1 3 5 7 9 11 13 15 17 19 21 23 25 27 29 31 33 35 37 39 41 43 45 47 49 51 53 55 57 59 61 63 65 67 69 71 73 75 77 79 81 83 85 87 89 91 93 95 97 99 "
     ]
    }
   ],
   "source": [
    "for i in range(1,101):\n",
    "    if i%2 != 0:\n",
    "        print(i, end=\" \")"
   ]
  },
  {
   "cell_type": "markdown",
   "id": "32ab4a86",
   "metadata": {},
   "source": [
    "for문의 경우<br> \n",
    "for 변수 in 리스트(또는 튜플, 문자열):<br>\n",
    " * 수행할 문장1<br>\n",
    " * 수행할 문장2<br> \n",
    " * ...<br><br>\n",
    "의 형태로 구성되어 있다. range(a,b)의 경우 a이상 b미만의 경우에서 default로 1씩 증가하며 for문을 반복하고 for문 안에 if 조건문으로 2로 나누어지지 않는 경우 i의 값을 출력하게 만들어서 1부터 100 사이의 홀수를 출력하게 만들었다."
   ]
  },
  {
   "cell_type": "markdown",
   "id": "2969697a",
   "metadata": {},
   "source": [
    "## 반복문2\n",
    "---------------\n",
    "while문을 활용하여 1부터 100사이의 짝수의 합을 계산하여 출력하시오."
   ]
  },
  {
   "cell_type": "code",
   "execution_count": 27,
   "id": "3bd72ca8",
   "metadata": {},
   "outputs": [
    {
     "name": "stdout",
     "output_type": "stream",
     "text": [
      "2550\n"
     ]
    }
   ],
   "source": [
    "add = 0\n",
    "j = 1\n",
    "while j<101:\n",
    "    if j%2==0:\n",
    "        add += j\n",
    "    j+=1\n",
    "print(add)"
   ]
  },
  {
   "cell_type": "markdown",
   "id": "a09c4060",
   "metadata": {},
   "source": [
    "while문의 기본 형태는<br>\n",
    "while <조건문>:\n",
    "* <수행할 문장1>\n",
    "* <수행할 문장2>\n",
    "* <수행할 문장3>\n",
    "* ...<br><br>\n",
    "이다. 여기에 짝수의 합을 더할 add와 j가 101을 넘으면 안되는 조건을 추가해 j가 짝수가 되는 경우 add에 j 값을 넣어 반복시켜 1부터 100사이의 짝수의 합을 계산하여 출력했다."
   ]
  },
  {
   "cell_type": "markdown",
   "id": "c45eb2ad",
   "metadata": {},
   "source": [
    "## 사용자 입력 프로그램\n",
    "--------------------------------\n",
    "사용자로 부터 임의의 정수를 입력받고, 해당 숫자를 역순으로 출력하는 프로그램을 작성하시오.<br>\n",
    "[실행 예]<br>\n",
    " 정수를 입력하세요: 3125<br>\n",
    " 숫자 역순은 5213 입니다."
   ]
  },
  {
   "cell_type": "code",
   "execution_count": 1,
   "id": "7c401ec2",
   "metadata": {},
   "outputs": [
    {
     "name": "stdout",
     "output_type": "stream",
     "text": [
      "정수를 입력하시오: 3125\n",
      "숫자 역순은 5213 입니다.\n"
     ]
    }
   ],
   "source": [
    "number = input(\"정수를 입력하시오: \")\n",
    "print(\"숫자 역순은\", number[::-1], \"입니다.\")"
   ]
  },
  {
   "cell_type": "markdown",
   "id": "6fb96390",
   "metadata": {},
   "source": [
    "input을 사용하여 사용자 입력을 받아오고 슬라이싱을 사용하여 입력받은 정수를 역으로 출력할 수 있다."
   ]
  },
  {
   "cell_type": "markdown",
   "id": "9d2b8177",
   "metadata": {},
   "source": [
    "## 사용자 입력 프로그램2\n",
    "---------------------------------\n",
    "사용자로 부터 정수를 입력받아서 1부터 그 사이에 존재하는 소수 (Prime number)를 출력하는 파이썬 프로그램을 작성하시오."
   ]
  },
  {
   "cell_type": "code",
   "execution_count": 5,
   "id": "35d8adaa",
   "metadata": {},
   "outputs": [
    {
     "name": "stdout",
     "output_type": "stream",
     "text": [
      "정수를 입력하시오: 100\n",
      "2 3 5 7 11 13 17 19 23 29 31 37 41 43 47 53 59 61 67 71 73 79 83 89 97 "
     ]
    }
   ],
   "source": [
    "num = int(input(\"정수를 입력하시오: \"))\n",
    "for i in range(1, num+1):\n",
    "    result = True\n",
    "    if(i<2):\n",
    "        result = False\n",
    "    for j in range(2,i):\n",
    "        if(i%j==0):\n",
    "            result= False\n",
    "    if result:\n",
    "        print(i, end=\" \")"
   ]
  },
  {
   "cell_type": "markdown",
   "id": "44ae0e56",
   "metadata": {},
   "source": [
    "소수란 1과 자기 자신만을 약수로 가지는 숫자로 이를 구하기 위해 먼저 입력받은 값을 int형으로 바꾸고 for 반복문을 진행했다. 먼저 1을 결과에서 제외시킨다.<br>\n",
    "```python\n",
    " for j in range(2,i):\n",
    "        if(i%j==0):\n",
    "            result= False\n",
    "```\n",
    "위를 통해 각 숫자마다 2,3,4,...을 나눠 만약 나머지가 0이 나올 경우 약수를 가지고 있다는 결과가 나오기에 소수가 아니므로 result 값을 False로 둔다. 그래서 result가 True였던 i 값들만을 출력하면 1과 입력한 값 사이의 소수들이 출력된다."
   ]
  },
  {
   "cell_type": "markdown",
   "id": "8dbc7b06",
   "metadata": {},
   "source": [
    "## WORD GAME\n",
    "-----------------------\n",
    "* 두 플레이어에게 같은 string, S, 가 주어진다.\n",
    "* 두 플레이어는 string S의 문자를 사용하여 substring을 만들어야 한다(중복 가능).\n",
    "* Stuart는 자음으로 시작하는 단어를 만들어야 한다.\n",
    "* Kevin은 모음으로 시작하는 단어를 만들어야 한다.\n",
    "* 게임은 두 플레이어가 만들 수 있는 모든 단어를 만들었을 때 끝난다.\n",
    "* 점수 계산 : substring 1개당 +1 점을 획득한다.\n",
    "사용자로 부터 대문자로 이루어진 string S를 입력받고, 승자와 그의 점수를 출력하는 프로그램을 작성하시오.<br>\n",
    "[실행 예]<br>\n",
    "string S를 입력하세요: BANANA<br>\n",
    "승자: Stuart 점수: 12"
   ]
  },
  {
   "cell_type": "code",
   "execution_count": 7,
   "id": "42a55a66",
   "metadata": {},
   "outputs": [
    {
     "name": "stdout",
     "output_type": "stream",
     "text": [
      "string S를 입력하세요: BANANA\n",
      "승자: Stuart 점수: 12\n"
     ]
    }
   ],
   "source": [
    "k_score = 0\n",
    "s_score = 0\n",
    "word = input(\"string S를 입력하세요: \")\n",
    "upword = word.upper()\n",
    "for i in range(0, len(upword)):\n",
    "    for j in range(i, len(upword)):\n",
    "        if (upword[i] == \"A\" or upword[i] == \"E\" or upword[i] == \"I\" or upword[i] == \"O\" or upword[i] == \"U\"):\n",
    "            k_score += 1\n",
    "        else:\n",
    "            s_score += 1\n",
    "if (k_score > s_score):\n",
    "    print(\"승자: Kevin 점수:\", k_score)\n",
    "elif (k_score == s_score):\n",
    "    print(\"무승부 점수:\", k_score)\n",
    "else:\n",
    "    print(\"승자: Stuart 점수:\", s_score)"
   ]
  },
  {
   "cell_type": "markdown",
   "id": "8715f73d",
   "metadata": {},
   "source": [
    "k_score은 Kevin의 점수, s_score은 Stuart의 점수를 의미한다.<br>\n",
    "```python\n",
    "for i in range(0, len(upword)):\n",
    "    for j in range(i, len(upword)):\n",
    "```\n",
    "위의 코드는 upword[i:j]를 반복한다는 걸 의미한다. 단어 하나하나 길이를 따지며 생각하면서 프로그램을 짜면 복잡하지만 결국 중요한 점은 단어의 시작점이 자음인지 모음인지다. 단어의 시작이 자음이면 그 뒤에 자음이 붙던 모음이 붙던 결국 자음으로 시작하는 단어이다. 따라서 자음으로 시작하는 단어는 자기 자신부터 단어의 길이까지 점수가 1씩 더해지면 s_score의 최종적인 점수가 나온다. 모음도 마찬가지다. "
   ]
  },
  {
   "cell_type": "markdown",
   "id": "0a89637f",
   "metadata": {},
   "source": [
    "## WORD GAME2\n",
    "-------------------------\n",
    "알파벳 소문자만으로 이루어진 string, S, 가 주어지고 아래 2가지 연산을 수행할 수 있다.<br>\n",
    "* 추가 : string S의 끝에 알파벳 소문자 하나를 추가한다.\n",
    "* 삭제 : string S의 마지막 문자 하나를 삭제한다. empty string에서 삭제 연산을 수행한 결과는 empty string이다.<br>\n",
    "두 개의 string, s와 t, 그리고 정수 k가 주어질 때, 정확히 k번의 연산을 통해 s를 t로 바꿀 수 있는지 판단하는 함수를 작성하시오.<br>\n",
    "```python\n",
    "def appendDelete(s, t, k):\n",
    "    '''\n",
    "    함수 포맷 변경하지 마세요.\n",
    "    s를 정확히 k번의 연산을 통해 t로 바꿀 수 있다면 'Yes'를 아니면 'No'를 return 해주세요.\n",
    "    '''\n",
    "    return 'Yes'    # or 'No'\n",
    "```\n",
    "* [예시]<br>\n",
    "1. s = 'hackerhappy'    t = 'hackerrank'    k = 9    => 'Yes'\n",
    "2. s = 'aba'            t = 'aba'           k = 7    => 'Yes'\n",
    "3. s = 'ashley'         t = 'ash'           k = 2    => 'No'"
   ]
  },
  {
   "cell_type": "code",
   "execution_count": 14,
   "id": "ea0756db",
   "metadata": {},
   "outputs": [
    {
     "name": "stdout",
     "output_type": "stream",
     "text": [
      "previous = aba\n",
      "after = aba\n",
      "change = 7\n"
     ]
    },
    {
     "data": {
      "text/plain": [
       "'Yes'"
      ]
     },
     "execution_count": 14,
     "metadata": {},
     "output_type": "execute_result"
    }
   ],
   "source": [
    "def appendDelete(s, t, k):\n",
    "    same = 0\n",
    "    change = 0\n",
    "    delete = 0\n",
    "    if (len(s) == len(t)):\n",
    "        for i in range(0, len(s)):\n",
    "            if(s[i] != t[i]):\n",
    "                delete = len(s) - i\n",
    "                break\n",
    "        change = delete * 2\n",
    "    elif (len(s) > len(t)):\n",
    "        for i in range(0, len(t)):\n",
    "            if(s[i] == t[i]):\n",
    "                same += 1\n",
    "                if(s[i] != t[i]):\n",
    "                    break\n",
    "        delete = len(s) - same\n",
    "        append = len(t) - same\n",
    "        change = delete + append\n",
    "    else:\n",
    "        for i in range(0, len(s)):\n",
    "            if(t[i] == s[i]):\n",
    "                same += 1\n",
    "                if(t[i] != s[i]):\n",
    "                    break\n",
    "        delete = len(t) - same\n",
    "        append = len(s) - same\n",
    "        change = delete + append\n",
    "    if (k >= change):\n",
    "        return 'Yes'\n",
    "    else:\n",
    "        return 'No'\n",
    "\n",
    "previous_word = input(\"previous = \")\n",
    "after_word = input(\"after = \")\n",
    "ch = int(input(\"change = \"))\n",
    "\n",
    "appendDelete(previous_word, after_word, ch)"
   ]
  },
  {
   "cell_type": "markdown",
   "id": "6e0c71d6",
   "metadata": {},
   "source": [
    "초기화된 변수가 총 3개가 필요한데, 단어 하나하나가 같을 때마다 1씩 더해지는 same, 변화에 필요한 연산 값을 넣는 change, 두 단어의 길이가 같을 때 제거되는 연산 횟수를 넣는 delete가 이 3개이다. 여기서 t와 s의 길이 비교에 따라 변화에 필요한 연산 값을 계산하는 공식이 달라진다.<br>\n",
    "s와 t의 길이가 같을 경우 문자를 삭제한 만큼 추가하면 되기에 <br>\n",
    "```python\n",
    "for i in range(0, len(s)):\n",
    "    if(s[i] != t[i]):\n",
    "        delete = len(s) - i\n",
    "        break\n",
    "change = delete * 2\n",
    "```\n",
    "위의 공식이 적용된다.\n",
    "s의 길이가 t보다 길을 경우에는 조금 더 복잡해진다.<br>\n",
    "먼저 문자가 다르기 이전까지 같았던 문자의 수를 세야 한다. 그 후 제거해야 되는 문자와 추가해야 되는 문자는 아래의 공식과 같다.<br>\n",
    "```python\n",
    "delete = len(s) - same\n",
    "append = len(t) - same\n",
    "change = delete + append\n",
    "```\n",
    "t의 길이가 s보다 길을 경우에는 반대로 적용된다.<br>\n",
    "이렇게 계산된 변화 횟수가 입력된 횟수보다 적을 경우 Yes, 아니면 No를 반환하게 된다."
   ]
  },
  {
   "cell_type": "markdown",
   "id": "b140b424",
   "metadata": {},
   "source": [
    "### 현재까지 강의를 들은 후의 소감\n",
    " C나 C++을 먼저 들어보았기에 아직까지 파이썬에 대해 어려운 점은 별로 느껴지지 않는다. 다만 자바 강의를 같이 듣고 있어서 둘이 헷갈릴 때가 종종 있다.\n",
    "### 숙제를 한 이후의 소감\n",
    " 다른 언어에 비해 복잡하지 않고 보기 편해서 과제를 하는 데도 다른 언어보다 더 편했던 것 같다. 그리고 따로 보고서를 작성하지 않고 jupyter에서 직접 작성할 수 있다는 점도 매우 편리한 점이라고 느꼈다. 또 막혔던 문제가 사고방식을 한 번 바꿔보면 매우 쉬워지는 경험을 할 수 있었다.\n",
    "### 전하고자 하는 말\n",
    " jupyter를 처음 쓸 때는 markdown 문법도 몰라서 좀 공부해야 하는 시간이 필요하긴 했지만 알고 나면 이것만큼 보고서 쓰기 편한 것도 없는 것 같다. 앞으로도 jupyter를 통해 과제를 제출하길 바란다. "
   ]
  },
  {
   "cell_type": "code",
   "execution_count": null,
   "id": "9a05112e",
   "metadata": {},
   "outputs": [],
   "source": []
  }
 ],
 "metadata": {
  "kernelspec": {
   "display_name": "Python 3",
   "language": "python",
   "name": "python3"
  },
  "language_info": {
   "codemirror_mode": {
    "name": "ipython",
    "version": 3
   },
   "file_extension": ".py",
   "mimetype": "text/x-python",
   "name": "python",
   "nbconvert_exporter": "python",
   "pygments_lexer": "ipython3",
   "version": "3.8.8"
  }
 },
 "nbformat": 4,
 "nbformat_minor": 5
}
