{
 "cells": [
  {
   "cell_type": "markdown",
   "id": "6aff74c8",
   "metadata": {},
   "source": [
    "# Homework 2\n",
    "========================\n",
    "## 스크립트프로그래밍 1분반\n",
    "### 2019136103 이준희"
   ]
  },
  {
   "cell_type": "markdown",
   "id": "603e3576",
   "metadata": {},
   "source": [
    "## 문제1\n",
    "------------\n",
    "다음 6 개의 Expression에 대해 Evaluation 결과 값을 출력하고, 해당 결과가 나온 이유에 대해 설명하시오<br>\n",
    "* 1 and 2 and 3 and 4\n",
    "* 1 or 2 or 3 or 4\n",
    "* 1 and 2 or 3 and 4\n",
    "* (1 and 2) or (3 and 4)\n",
    "* 1 or 2 and 3 or 4\n",
    "* (1 or 2) and (3 or 4)"
   ]
  },
  {
   "cell_type": "code",
   "execution_count": 1,
   "id": "36c512f4",
   "metadata": {},
   "outputs": [
    {
     "data": {
      "text/plain": [
       "4"
      ]
     },
     "execution_count": 1,
     "metadata": {},
     "output_type": "execute_result"
    }
   ],
   "source": [
    "1 and 2 and 3 and 4"
   ]
  },
  {
   "cell_type": "code",
   "execution_count": 2,
   "id": "1633b5cc",
   "metadata": {},
   "outputs": [
    {
     "data": {
      "text/plain": [
       "1"
      ]
     },
     "execution_count": 2,
     "metadata": {},
     "output_type": "execute_result"
    }
   ],
   "source": [
    "1 or 2 or 3 or 4"
   ]
  },
  {
   "cell_type": "code",
   "execution_count": 3,
   "id": "2c82abf1",
   "metadata": {},
   "outputs": [
    {
     "data": {
      "text/plain": [
       "2"
      ]
     },
     "execution_count": 3,
     "metadata": {},
     "output_type": "execute_result"
    }
   ],
   "source": [
    "1 and 2 or 3 and 4"
   ]
  },
  {
   "cell_type": "code",
   "execution_count": 4,
   "id": "ad562235",
   "metadata": {},
   "outputs": [
    {
     "data": {
      "text/plain": [
       "2"
      ]
     },
     "execution_count": 4,
     "metadata": {},
     "output_type": "execute_result"
    }
   ],
   "source": [
    "(1 and 2) or (3 and 4)"
   ]
  },
  {
   "cell_type": "code",
   "execution_count": 5,
   "id": "46e203f4",
   "metadata": {},
   "outputs": [
    {
     "data": {
      "text/plain": [
       "1"
      ]
     },
     "execution_count": 5,
     "metadata": {},
     "output_type": "execute_result"
    }
   ],
   "source": [
    "1 or 2 and 3 or 4"
   ]
  },
  {
   "cell_type": "code",
   "execution_count": 6,
   "id": "a1e377da",
   "metadata": {},
   "outputs": [
    {
     "data": {
      "text/plain": [
       "3"
      ]
     },
     "execution_count": 6,
     "metadata": {},
     "output_type": "execute_result"
    }
   ],
   "source": [
    "(1 or 2) and (3 or 4)"
   ]
  },
  {
   "cell_type": "markdown",
   "id": "1c37adc2",
   "metadata": {},
   "source": [
    "### 설명\n",
    "and가 있을 경우에는 and 양쪽에 있는 변수들이 True여야 True가 나오고 or일 경우에는 한 가지만 True여도 True를 출력할 수 있다. 그렇기에 and에 경우에는 끝까지 읽고, or은 True 값이 나올 경우 거기서 읽는 것을 멈춘다.<br>\n",
    "여기서 이 숫자들은 0이나 None 같은 값이 아니기 때문에 True 값으로 여겨지고 위의 조건에 맞게 읽은 후 마지막에 읽는 값을 출력하는 것이다.<br>\n",
    "또한 ()가 or이나 and보다 우선순위가 높기 때문에 위와 같은 값이 나온다."
   ]
  },
  {
   "cell_type": "markdown",
   "id": "93850f7c",
   "metadata": {},
   "source": [
    "## 문제2\n",
    "------------\n",
    "경로에 해당하는 문자열 1개를 입력 받아 그 안에 디렉토리 경로명과 파일명을 분리하여 리스트로 반환하는 함수 div_path(s)를 작성하시오.<br>\n",
    "* 인자로 전달하는 문자열은 경로만 들어간다고 가정한다.\n",
    "* 각 디렉토리와 파일을 구분하는 문자는 '/'로 가정한다.\n",
    "* 반환하는 리스트의 첫번째 원소는 디렉토리이고 두번째 원소는 파일명이다.\n",
    "* 다음과 같은 실행 및 출력 결과가 도출되어야 한다.\n",
    "    * div_path('/usr/local/bin/python')\n",
    "        * ['/usr/local/bin', 'python']\n",
    "    * div_path('/home/chulsoo/test.txt')\n",
    "        * ['/home/chulsoo', 'test.txt']\n",
    "* [참고] 리스트(l) 내에 새로운 정수값 (예를 들어 10)을 넣는 방법은 l.append(10) 이다."
   ]
  },
  {
   "cell_type": "code",
   "execution_count": 10,
   "id": "a88ae55b",
   "metadata": {},
   "outputs": [
    {
     "name": "stdout",
     "output_type": "stream",
     "text": [
      "Enter: \n",
      "/usr/local/bin/python\n",
      "['/usr/local/bin', 'python']\n"
     ]
    }
   ],
   "source": [
    "def div_path(s):\n",
    "    count = 0\n",
    "    file = s.split('/')[-1]\n",
    "    for i in file.strip(): count += 1\n",
    "    direct = s[:-(count+1)]\n",
    "    result = []\n",
    "    result.append(direct)\n",
    "    result.append(file)\n",
    "    return result\n",
    "print(\"Enter: \")\n",
    "str = input()\n",
    "print(div_path(str))"
   ]
  },
  {
   "cell_type": "markdown",
   "id": "7394f716",
   "metadata": {},
   "source": [
    "### 설명\n",
    "함수에 들어갈 변수로는 count, file, result을 준비한다.<br>\n",
    "먼저 파일명은 s.split('/')[-1]을 통해 바로 얻어낼 수 있다. 디렉토리 경로명은 좀 더 복잡하다.<br>\n",
    "파일명의 인덱스 수를 count에 넣는다. 위의 for 반복문이 이를 수행한다.<br>\n",
    "디렉토리 경로명은 슬라이싱을 통해 구하는데 뒤부터 인덱스를 세도록 음수를 사용한다. 여기서 count값에 1을 더한 이유는 1을 더하지 않으면 마지막 '/'도 포함해서 디렉토리 경로명을 출력하기 때문이다.<br>\n",
    "그리고 빈 리스트를 만들어 append를 통해 디렉토리 경로명과 파일명을 순서대로 넣으면 함수가 완성된다."
   ]
  },
  {
   "cell_type": "markdown",
   "id": "6732e1a5",
   "metadata": {},
   "source": [
    "## 문제3\n",
    "------------\n",
    "두 개의 리스트를 인자로 받아서 그 두 개의 리스트에 대한 '합집합'을 반환하는 함수 list_union(lista, listb)를 작성하시오.<br>\n",
    "* 집합 자료형 set은 사용하지 않는다.\n",
    "* 인자로 전달하는 리스트 2 개에는 정수값만 들어간다고 가정하자.\n",
    "* 함수 내에서 새로운 리스트를 만들어 그 리스트 내에 인자로 받은 두 리스트의 모든 원소를 넣어 반환한다.\n",
    "* 반환하는 리스트에는 절대로 중복된 원소가 들어 있으면 안된다 (집합의 조건).\n",
    "* 반환하는 리스트는 정렬이 되어 있어야 한다.\n",
    "* 다음과 같은 실행 및 출력 결과가 도출되어야 한다.\n",
    "    * list_union([1, 2, 3], [1, 2, 4])\n",
    "        * [1, 2, 3, 4]\n",
    "    * list_union([-10, -5, 0, -1], [100, 9, 0, 9])\n",
    "        * [-10, -5, -1, 0, 9, 100]\n",
    "    * list_union([0, 1, 2], [0, 1, 2])\n",
    "        * [0, 1, 2]\n",
    "* [참고] 리스트(l) 내에 새로운 정수값 (예를 들어 10)을 넣는 방법은 l.append(10) 이다.\n",
    "* [참고] 임의의 정수값 (x)이 리스트 (l) 내에 존재하는지 판단하는 방법은 x in l 이다."
   ]
  },
  {
   "cell_type": "code",
   "execution_count": 12,
   "id": "e50ec07e",
   "metadata": {},
   "outputs": [
    {
     "name": "stdout",
     "output_type": "stream",
     "text": [
      "[1, 2, 3, 4]\n"
     ]
    }
   ],
   "source": [
    "def list_union(lista, listb):\n",
    "    listc = []\n",
    "    for i in lista: listc.append(i)\n",
    "    for i in listb:\n",
    "        if ( i not in listc):\n",
    "            listc.append(i)\n",
    "    return sorted(listc)\n",
    "lista = [1,2,3]\n",
    "listb = [1,2,4]\n",
    "print(list_union(lista, listb))"
   ]
  },
  {
   "cell_type": "markdown",
   "id": "c8e86e4e",
   "metadata": {},
   "source": [
    "### 설명\n",
    "함수 안에 새로운 listc를 만들고 lista의 각각의 인덱스에 있는 모든 걸 listc에 넣는다. 첫번째 for 반복문이 이를 수행한다.<br>\n",
    "그리고 listb의 각각의 인덱스를 보고 listc의 인덱스에 없는 게 있으면 listc에 넣는다. 2번째 for 반복문이 이를 수행한다.<br>\n",
    "마지막으로 sorted를 통해 listc를 정렬하여 반환한다."
   ]
  },
  {
   "cell_type": "markdown",
   "id": "aa1b3a21",
   "metadata": {},
   "source": [
    "## 문제4\n",
    "------------\n",
    "두 개의 리스트를 인자로 받아서 그 두 개의 리스트에 대한 '교집합'을 반환하는 함수 list_intersection(lista, listb)와 '차집합'을 반환하는 함수 list_difference(lista, listb)를 작성하시오.\n",
    "* 모든 가정과 조건은 3번 문제와 동일하다."
   ]
  },
  {
   "cell_type": "code",
   "execution_count": 20,
   "id": "cd25e3c5",
   "metadata": {},
   "outputs": [
    {
     "name": "stdout",
     "output_type": "stream",
     "text": [
      "[0]\n"
     ]
    }
   ],
   "source": [
    "def list_intersection(lista, listb):\n",
    "    listc = []\n",
    "    for i in lista:\n",
    "        for i in listb:\n",
    "            if ( i in lista):\n",
    "                if(i not in listc):\n",
    "                    listc.append(i)\n",
    "    return sorted(listc)\n",
    "lista = [-10, -5, 0, -1]\n",
    "listb = [100, 9, 0, 9]\n",
    "print(list_intersection(lista, listb))"
   ]
  },
  {
   "cell_type": "markdown",
   "id": "439079ec",
   "metadata": {},
   "source": [
    "### 설명\n",
    "함수 안에 새로운 listc를 만들고 lista와 listb의 리스트 안에 있는 각각의 인덱스의 내용물을 비교하여 같을 때 그 내용물이 listc에 없으면 listc의 리스트에 추가한 후 정렬하여 반환한다. "
   ]
  },
  {
   "cell_type": "code",
   "execution_count": 19,
   "id": "04614936",
   "metadata": {},
   "outputs": [
    {
     "name": "stdout",
     "output_type": "stream",
     "text": [
      "[-10, -5, -1]\n"
     ]
    }
   ],
   "source": [
    "def list_difference(lista, listb):\n",
    "    listc = []\n",
    "    for i in lista: listc.append(i)\n",
    "    for i in listb:\n",
    "        if ( i in listc):\n",
    "            listc.remove(i)\n",
    "    return sorted(listc) \n",
    "    \n",
    "lista = [-10, -5, 0, -1]\n",
    "listb = [100, 9, 0, 9]\n",
    "print(list_difference(lista, listb))\n"
   ]
  },
  {
   "cell_type": "markdown",
   "id": "eb6030ad",
   "metadata": {},
   "source": [
    "### 설명\n",
    "함수 안에 새로운 listc를 만들고 lista의 각각의 인덱스에 있는 모든 걸 listc에 넣는다. 첫번째 for 반복문이 이를 수행한다.<br>\n",
    "그리고 listb의 각각의 인덱스를 보고 listc의 인덱스에 같은 게 있으면 listc의 인덱스 내용을 제거한다. 2번째 for 반복문이 이를 수행한다.<br>\n",
    "마지막으로 sorted를 통해 listc를 정렬하여 반환한다."
   ]
  },
  {
   "cell_type": "markdown",
   "id": "44806851",
   "metadata": {},
   "source": [
    "## 문제5\n",
    "------------\n",
    "두 개의 양의 정수를 인자로 받아서 해당 범위안에 있는 소수(prime number)의 리스트를 출력하는 함수 print_primenumber(a, b)를 작성하시오.<br>\n",
    "* 이미 구현된 모듈이나 라이브러리는 사용하지 않는다.\n",
    "* 함수의 반환(return)은 없으며 함수 내의 끝에서 .format()을 사용하여 다음과 같이 출력한다.\n",
    "    * print_primenumber(2, 10)\n",
    "        * 2 이상 10 이하 정수 중 소수 리스트: [2, 3, 5, 7]"
   ]
  },
  {
   "cell_type": "code",
   "execution_count": 24,
   "id": "9c416c64",
   "metadata": {},
   "outputs": [
    {
     "name": "stdout",
     "output_type": "stream",
     "text": [
      "5 이상 55 이하 정수 중 소수 리스트: [5, 7, 11, 13, 17, 19, 23, 29, 31, 37, 41, 43, 47, 53]\n"
     ]
    }
   ],
   "source": [
    "def print_primenumber(a, b):\n",
    "    pri = []\n",
    "    for i in range(b+1):\n",
    "        result = True\n",
    "        if(i<2):\n",
    "            result = False\n",
    "        for j in range(2,i):\n",
    "            if(i%j==0):\n",
    "                result = False\n",
    "        if result:\n",
    "            if(i >= a):\n",
    "                pri.append(i)\n",
    "    print(\"{} 이상 {} 이하 정수 중 소수 리스트: {}\".format(a,b,pri))\n",
    "print_primenumber(5, 55)"
   ]
  },
  {
   "cell_type": "markdown",
   "id": "13e25f68",
   "metadata": {},
   "source": [
    "### 설명\n",
    "함수 안에 새로운 리스트, pri를 만들고 bool을 이용하여 1부터 b까지의 소수를 구한다.<br>\n",
    "result를 이용해 일단 1부터 b까지를 모두 True로 만들고 1은 소수에 포함되지 않으므로 False로 변환한다.<br>\n",
    "그리고 2부터 자기 자신의 숫자 미만까지 나머지가 0이 나오는 값이 나오면 result를 False로 만들어 소수를 구한다.<br>\n",
    "그리고 a보다 크거나 같은 소수들을 pri 리스트에 넣어 format을 이용하여 문장을 출력한다."
   ]
  }
 ],
 "metadata": {
  "kernelspec": {
   "display_name": "Python 3",
   "language": "python",
   "name": "python3"
  },
  "language_info": {
   "codemirror_mode": {
    "name": "ipython",
    "version": 3
   },
   "file_extension": ".py",
   "mimetype": "text/x-python",
   "name": "python",
   "nbconvert_exporter": "python",
   "pygments_lexer": "ipython3",
   "version": "3.8.8"
  }
 },
 "nbformat": 4,
 "nbformat_minor": 5
}
