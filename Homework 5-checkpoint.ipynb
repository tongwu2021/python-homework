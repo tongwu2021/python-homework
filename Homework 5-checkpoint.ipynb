{
 "cells": [
  {
   "cell_type": "markdown",
   "id": "c5bf4c16",
   "metadata": {},
   "source": [
    "# Homework 5\n",
    "========================\n",
    "## 스크립트프로그래밍 1분반\n",
    "### 2019136103 이준희"
   ]
  },
  {
   "cell_type": "markdown",
   "id": "d8bd5303",
   "metadata": {},
   "source": [
    "## 문제1\n",
    "------------\n",
    "클래스와 모듈의 공통점과 차이점에 대해 설명하시오."
   ]
  },
  {
   "cell_type": "markdown",
   "id": "cda5774b",
   "metadata": {},
   "source": [
    "모듈과 클래스는 용도에 맞도록 구성한 객체 멤버들을 캡슐화 시킨 후 가져다 사용한다는 부분과 새로운 이름 공간을 확보해서 사용한다는 것이 공통점이고, 모듈은 보통 다운받은 파일을 프로그램에 포함시켜 놓고 자유롭게 사용하는 반면 클래스는 그 목적에 맞게 각 프로세스에서 상속하여 사용한다는 점이 차이점이다."
   ]
  },
  {
   "cell_type": "markdown",
   "id": "f1c604b0",
   "metadata": {},
   "source": [
    "## 문제2\n",
    "------------\n",
    "다형성에 대해 설명하고 다형성을 보여주는 자신만의 파이썬 코드 예제를 제시하시오."
   ]
  },
  {
   "cell_type": "code",
   "execution_count": 2,
   "id": "478631ab",
   "metadata": {},
   "outputs": [
    {
     "name": "stdout",
     "output_type": "stream",
     "text": [
      "멍멍\n",
      "야옹\n",
      "울부짖다\n"
     ]
    }
   ],
   "source": [
    "class Animal:\n",
    "    def cry(self):\n",
    "        return \"울부짖다\"\n",
    "    \n",
    "class Dog(Animal):\n",
    "    def cry(self):\n",
    "        return \"멍멍\"\n",
    "    \n",
    "class Cat(Animal):\n",
    "    def cry(self):\n",
    "        return \"야옹\"\n",
    "    \n",
    "class Elephant(Animal):\n",
    "    pass\n",
    "\n",
    "a = Dog()\n",
    "b = Cat()\n",
    "c = Elephant()\n",
    "\n",
    "print(a.cry())\n",
    "print(b.cry())\n",
    "print(c.cry())"
   ]
  },
  {
   "cell_type": "markdown",
   "id": "bcb16f27",
   "metadata": {},
   "source": [
    "다형성은 다른 클래스에 속한 같은 이름의 인스턴스들이 동일한 메소드 이름으로 호출할 경우 동적으로 선택되어 수행되어 다양한 형태를 가질 수 있게 된다.<br>\n",
    "이에 대한 장점으로 다른 클래스에 속한 같은 이름의 다양한 메소드들에게 유사한 작업을 수행시킬 수 있고, 추상클래스를 상속하는 다른 서브클래스 내에 작성된 같은 이름의 메소드를 다른 목적으로 사용할 수 있다는 점이 있는데 파이썬에서 다형성의 장점은 자료형의 타입이 동적으로 결정되므로 다형성을 적용하기 훨씬 용이하다는 점이다."
   ]
  },
  {
   "cell_type": "markdown",
   "id": "4188b141",
   "metadata": {},
   "source": [
    "## 문제3\n",
    "------------\n",
    "다음 각 요구사항 모두를 만족시키는 Counter 클래스를 코딩하시오 (정답을 각 요구사항별로 입력할 필요 없이 3번 문제에 대해 1개의 클래스 정의 코드를 제시하면 된다.)\n",
    "* 요구사항 1. 생성자에 count 값과 step 값을 인자로 받을 수 있다.\n",
    "\n",
    "    * count: Counter 인스턴스가 지니는 초기 정수 값\n",
    "    * step: Counter 인스턴스의 count가 증가되는 증분 (defalt 값: 1)\n",
    "            >>> c = Counter(10)\n",
    "            >>> d = Counter(10, 2)\n",
    "\n",
    "* 요구사항 2. 다음과 같이 Counter의 인스턴스를 출력을 해주는 __str__() 메소드를 Counter 클래스 내에 구현하시오.\n",
    "\n",
    "        >>> print(c)\n",
    "        [Count (step: 1)] 10\n",
    "        >>> print(d)\n",
    "        [Count (step: 2)] 10\n",
    "\n",
    "* 요구사항 3. 다음과 같이 step에 주어진 증분만큼 count를 증가시키는 incr() 메소드를 Counter 클래스 내에 구현하시오.\n",
    "\n",
    "        >>> c.incr()\n",
    "        >>> d.incr()\n",
    "        >>> print(c)\n",
    "        [Count (step: 1)] 11\n",
    "        >>> print(d)\n",
    "        [Count (step: 2)] 12\n",
    "\n",
    "* 요구사항 4. Counter 클래스 내에 관련 메소드를 추가하여 인스턴스 객체를 직접 호출(call)할 수 있도록 하시오. 인스턴스 객체를 직접 호출했을 때에 내부적으로 incr() 메소드를 호출하는 방법으로 구현하시오.\n",
    "\n",
    "        >>> c()\n",
    "        >>> d()\n",
    "        >>> print(c)\n",
    "        [Count (step: 1)] 12\n",
    "        >>> print(d)\n",
    "        [Count (step: 2)] 14\n",
    "\n",
    "* 요구사항 5. 다음과 같은 두 개의 산술 연산 (+, -)이 수행될 수 있도록 Counter 클래스 내에 관련 메소드를 추가하시오.\n",
    "\n",
    "        >>> c = c + 5\n",
    "        >>> d = d - 5\n",
    "        >>> print(c)\n",
    "        [Count (step: 1)] 17\n",
    "        >>> print(d)\n",
    "        [Count (step: 2)] 9\n",
    "\n",
    "* 요구사항 6. 다음과 같은 관계연산 (>, <, ==)이 수행될 수 있도록 Counter 클래스 내에 관련 메소드를 추가하시오.\n",
    "\n",
    "        >>> print(c > 10)\n",
    "        True\n",
    "        >>> print(d > 10)\n",
    "        False\n",
    "        >>> print(c < 10)\n",
    "        False\n",
    "        >>> print(d < 10)\n",
    "        True\n",
    "        >>> print(c == 17)\n",
    "        True\n",
    "        >>> print(d != 9)\n",
    "        False"
   ]
  },
  {
   "cell_type": "code",
   "execution_count": 16,
   "id": "57c6816f",
   "metadata": {},
   "outputs": [],
   "source": [
    "class Counter():   \n",
    "    def __init__(self, count, step=1):\n",
    "        self.count = count\n",
    "        self.step = step\n",
    "    def __str__(self):\n",
    "        return \"[Count (step: %d)] %d\" % (self.step, self.count)\n",
    "    def incr(self):\n",
    "        self.count += self.step\n",
    "        return self.count\n",
    "    def __call__(self):\n",
    "        self.incr()\n",
    "    def __add__(self, other):\n",
    "        return self.count + other\n",
    "    def __sub__(self, other):\n",
    "        return self.count - other\n",
    "    def __lt__(self, other):\n",
    "        return self.count < other\n",
    "    def __gt__(self, other):\n",
    "        return self.count > other\n",
    "    def __eq__(self, other):\n",
    "        return self.count == other"
   ]
  },
  {
   "cell_type": "code",
   "execution_count": 19,
   "id": "68e828eb",
   "metadata": {},
   "outputs": [
    {
     "name": "stdout",
     "output_type": "stream",
     "text": [
      "[Count (step: 1)] 10\n",
      "[Count (step: 2)] 10\n",
      "\n",
      "[Count (step: 1)] 11\n",
      "[Count (step: 2)] 12\n",
      "\n",
      "[Count (step: 1)] 12\n",
      "[Count (step: 2)] 14\n",
      "\n",
      "[Count (step: 1)] 17\n",
      "[Count (step: 1)] 9\n",
      "\n",
      "True\n",
      "False\n",
      "False\n",
      "True\n",
      "True\n",
      "False\n"
     ]
    }
   ],
   "source": [
    "c = Counter(10)\n",
    "d = Counter(10, 2)\n",
    "\n",
    "print(c)\n",
    "print(d)\n",
    "print()\n",
    "\n",
    "c.incr()\n",
    "d.incr()\n",
    "print(c)\n",
    "print(d)\n",
    "print()\n",
    "\n",
    "c()\n",
    "d()\n",
    "print(c)\n",
    "print(d)\n",
    "print()\n",
    "\n",
    "c = Counter(c+5)\n",
    "d = Counter(d-5)\n",
    "print(c)\n",
    "print(d)\n",
    "print()\n",
    "\n",
    "print(c > 10 )\n",
    "print(d > 10) \n",
    "print(c < 10 )\n",
    "print(d < 10)\n",
    "print(c == 17)\n",
    "print(d != 9 )"
   ]
  },
  {
   "cell_type": "markdown",
   "id": "4da64f41",
   "metadata": {},
   "source": [
    "* __init__을 이용해 count, step 값이 들어간 생성자 생성\n",
    "* __str__을 이용해 Counter의 인스턴스를 출력\n",
    "* incr 함수를 이용해 step에 주어진 증분만큼 count를 증가\n",
    "* __call__을 이용해 인스턴스 객체를 직접 호출\n",
    "* 산술 연산과 관계 연산은 수치 연산자 오버로딩과 비교 연산자 오버로딩을 이용해 사용"
   ]
  },
  {
   "cell_type": "markdown",
   "id": "0e25602f",
   "metadata": {},
   "source": [
    "## 문제4\n",
    "------------\n",
    "다음은 내장 자료형 list를 서브클래싱하여 만든 MySet 클래스 정의 내용이다. 다음 클래스 정의에서 __init__(), __str()__(), elimicate_duplicate()의 세 개의 메소드 코드 내용을 자신이 다른 사람에게 가르친다고 생각하며 설명해보시오.\n",
    "\n",
    "* MySet은 집합(Set) 자료형을 정의하려는 의도하에 만들어진 클래스이다.\n",
    "\n",
    "```python\n",
    "class MySet(list):\n",
    "    def __init__(self, l):\n",
    "        for e in l:\n",
    "            self.append(e)\n",
    "        MySet.eliminate_duplicate(self)\n",
    "    \n",
    "    def __str__(self):\n",
    "        result = \"MySet: {\"\n",
    "        for e in self:\n",
    "            result = result + str(e) + \" ,\"\n",
    "        result = result[0:len(result)-2] + \"}\"\n",
    "        return result\n",
    "\n",
    "    @staticmethod    \n",
    "    def eliminate_duplicate(l):\n",
    "        s = []\n",
    "        for e in l:\n",
    "            if e not in s:\n",
    "                s.append(e)\n",
    "        l[:] = []\n",
    "        for e in s:\n",
    "            l.append(e)\n",
    "\n",
    "    \n",
    "if __name__ == \"__main__\":\n",
    "    s = MySet([1, 2, 2, 3])\n",
    "    print(s)\n",
    "    t = MySet([2, 3, 4, 5, 6, 7, 8, 8, 8, 8, 8, 9])\n",
    "    print(t)\n",
    "```\n",
    "MySet: {1 ,2 ,3}<br>\n",
    "MySet: {2 ,3 ,4 ,5 ,6 ,7 ,8 ,9}<br>"
   ]
  },
  {
   "cell_type": "markdown",
   "id": "1f7b9133",
   "metadata": {},
   "source": [
    "__init__()은 Myset의 생성자로 매개변수를 받아 리스트로 추가하고, 그 후 리스트의 인자값을 elimicate_duplicate()에 넣는다.<br>\n",
    "__str__()은 출력을 담당하는 함수로 리스트 값을 result에 더해 이를 출력하게 만든다.<br>\n",
    "여기서  result = result[0:len(result)-2] + \"}\" 부분은 위에 식에서 더한 result 부분의 끝이 \" ,\"로 끝나기 때문에 이를 없애고 \"}\"로 마치게 하기 위해서이다.<br>\n",
    "elimicate_duplicate()은 정적 메소드로 인스턴스 객체와 무관하게 클래스 이름 공간에 존재하는 메소드로서 클래스 이름을 이용하여 직접 호출할 수 있다.<br>\n",
    "새로운 리스트 목록을 만들고 중복되지 않은 것들을 다시 이 리스트에 넣은 다음 슬라이싱을 이용해 복사하여 다시 리스트에 추가한다. 결국 중복요소를 제거하는 함수라고 보면 된다."
   ]
  },
  {
   "cell_type": "markdown",
   "id": "6c7509fb",
   "metadata": {},
   "source": [
    "## 문제5\n",
    "------------\n",
    "4번 문제에 정의된 MySet 클래스에 메소드를 추가하여 다음 각 요구사항 모두를 만족시키는 코딩을 제시하시오.\n",
    "\n",
    "* 정답을 각 요구사항별로 입력할 필요 없이 요구사항 3개 전체에 대해 1개의 MySet 클래스 정의 코드를 제시하고 주석등으로 해당 코드를 설명한다.\n",
    "* 요구사항 1. | 연산으로 두 집합의 합집합을 반환한다.\n",
    "\n",
    "        >>> u = s | t\n",
    "        >>> print(u)\n",
    "        MySet: {1, 2, 3, 4, 5, 6, 7, 8, 9}\n",
    "\n",
    "* 요구사항 2. & 연산으로 두 집합의 교집합을 반환한다.\n",
    "\n",
    "        >>> u = s & t\n",
    "        >>> print(u)\n",
    "        MySet: {2, 3}\n",
    "\n",
    "* 요구사항 3. - 연산으로 두 집합의 차집합을 반환한다.\n",
    "\n",
    "        >>> s = MySet([1, 2, 3])\n",
    "        >>> t = MySet([3, 4, 5])\n",
    "        >>> u = s - t\n",
    "        >>> print(u)\n",
    "        MySet: {1, 2}"
   ]
  },
  {
   "cell_type": "code",
   "execution_count": 19,
   "id": "a20fcd2f",
   "metadata": {},
   "outputs": [],
   "source": [
    "class MySet(list):\n",
    "    def __init__(self, l):\n",
    "        for e in l:\n",
    "            self.append(e)\n",
    "        MySet.eliminate_duplicate(self)\n",
    "\n",
    "    def __str__(self):\n",
    "        result = \"MySet: {\"\n",
    "        for e in self:\n",
    "            result = result + str(e) + \" ,\"\n",
    "        result = result[0:len(result)-2] + \"}\"\n",
    "        return result\n",
    "\n",
    "    @staticmethod    \n",
    "    def eliminate_duplicate(l):\n",
    "        s = []\n",
    "        for e in l:\n",
    "            if e not in s:\n",
    "                s.append(e)\n",
    "        l[:] = []\n",
    "        for e in s:\n",
    "            l.append(e)"
   ]
  },
  {
   "cell_type": "code",
   "execution_count": 28,
   "id": "794d4e61",
   "metadata": {},
   "outputs": [],
   "source": [
    "class MySet(list):\n",
    "    def __init__(self, l):\n",
    "        for e in l:\n",
    "            self.append(e)\n",
    "        MySet.eliminate_duplicate(self)\n",
    "\n",
    "    def __str__(self):\n",
    "        result = \"MySet: {\"\n",
    "        for e in self:\n",
    "            result = result + str(e) + \" ,\"\n",
    "        result = result[0:len(result)-2] + \"}\"\n",
    "        return result\n",
    "\n",
    "    @staticmethod    \n",
    "    def eliminate_duplicate(l):\n",
    "        s = []\n",
    "        for e in l:\n",
    "            if e not in s:\n",
    "                s.append(e)\n",
    "        l[:] = []\n",
    "        for e in s:\n",
    "            l.append(e)\n",
    "    def __or__(self, l):\n",
    "        s = set(self)\n",
    "        l = set(l)\n",
    "        s = s|l\n",
    "        return s\n",
    "    def __and__(self, l):\n",
    "        s=[]\n",
    "        for e in l:\n",
    "            for i in self:\n",
    "                if e==i:\n",
    "                    s.append(i)\n",
    "        return s\n",
    "    def __sub__(self, l):\n",
    "        s=MySet([])\n",
    "        for e in range(len(self)):\n",
    "            if self[e] not in l:\n",
    "                s.append(self[e])\n",
    "        return s\n",
    "    \n",
    "    "
   ]
  },
  {
   "cell_type": "code",
   "execution_count": 29,
   "id": "a49e64b6",
   "metadata": {},
   "outputs": [
    {
     "name": "stdout",
     "output_type": "stream",
     "text": [
      "{1, 2, 3, 4, 5, 6, 7, 8, 9}\n",
      "\n",
      "[2, 3]\n",
      "\n",
      "MySet: {1 ,2}\n"
     ]
    }
   ],
   "source": [
    "if __name__ == \"__main__\":\n",
    "    s = MySet([1, 2, 2, 3])\n",
    "    t = MySet([2, 3, 4, 5, 6, 7, 8, 8, 8, 8, 8, 9])\n",
    "    \n",
    "    u = s | t\n",
    "    print(u)\n",
    "    print()\n",
    "    \n",
    "    u = s & t \n",
    "    print(u)\n",
    "    print()\n",
    "\n",
    "    s = MySet([1, 2, 3]) \n",
    "    t = MySet([3, 4, 5])\n",
    "    u = s - t \n",
    "    print(u) "
   ]
  },
  {
   "cell_type": "markdown",
   "id": "e1992371",
   "metadata": {},
   "source": [
    "두 집합의 합집합은 __or__()내부에 합집합 계산을 사용하여 반환하게 만들었고, 두 집합의 교집합은 for 반복문을 이용해 두 집합에서 같은 게 있으면 그 값을 받아와 반환하게 만들었으며, 두 집합의 차집합도 for 반복문을 이용해 self에서 l에서 없는 게 있으면 추가하여 반환하게 만들었다.<br>\n",
    "다만 Myset으로 하려니 합집합과 교집합에서 이름공간에 대한 오류가 나와 Myset을 사용하지 못했다. "
   ]
  },
  {
   "cell_type": "markdown",
   "id": "e3f47039",
   "metadata": {},
   "source": [
    "## 문제6\n",
    "------------\n",
    "5번 문제에서 정의한 MySet 클래스에 대해 다음 예제를 수행하면 오류없이 올바르게 동작하는 것을 확인할 수 있다. 다음 예제 내에 있는 len(), bool() 내장함수와 in 키워드 사용 예제가 별다른 메소드 정의를 하지 않았는 데도 올바르게 수행되는 이유를 설명하시오.\n",
    "\n",
    "s = MySet([1, 2, 3, 4, 5, 6]) print(len(s)) 6 print(bool(s)) True print(2 in s) True"
   ]
  },
  {
   "cell_type": "markdown",
   "id": "377b76f8",
   "metadata": {},
   "source": [
    "len()과 bool()은 내장함수로서, 매우 기본이 되는 함수들이기 때문이다."
   ]
  },
  {
   "cell_type": "markdown",
   "id": "2025dea9",
   "metadata": {},
   "source": [
    "## [Incremental Project 문제]\n",
    "------------\n",
    "Assignment 3 & Assignment 4의 Incremental Project 코드를 다시 확장/변형하여 다음과 같은 조건을 만족하도록 구현하시오 (CODE REFACTORING!!!).\n",
    "* 1) 새로운 클래스 SearchEngine를 정의하시오.\n",
    "\n",
    "    * 이전 숙제에서 고려했던 pickle 모듈 등은 전혀 고려하지 마시오.\n",
    "\n",
    "        * 즉, 하드디스크에 저장하고 다시 로드하는 기능은 본 숙제에는 배제하시오.\n",
    "    * 이전 숙제에서 적용했던 국어/영어 불용어 처리는 적용하시오.\n",
    "\n",
    "* 2) 생성자에 URL을 0개에서 임의의 개수를 넣을 수 있도록 생성자 인수를 가변인수로 정의하여 각각의 URL을 리스트 자료형에 유지하시오.\n",
    "        >>> w1 = SearchEngine('http://www.cnn.com', 'http://www.times.com', 'https://www.amazon.com')\n",
    "        >>> w2 = SearchEngine('http://www.cnn.com', 'http://www.times.com')\n",
    "        >>> w3 = SearchEngine()\n",
    "\n",
    "* 3) addUrl() 메소드를 구현하여 인스턴스를 생성한 이후에도 URL을 추가할 수 있도록 한다.\n",
    "\n",
    "    * 반드시 1개의 URL을 추가하도록 구현 (즉, 동시에 여러 개의 URL을 추가하는 것은 배제)\n",
    "            >>> w1.addUrl('https://github.com')\n",
    "            >>> w3.addUrl('http://stackoverflow.com')\n",
    "\n",
    "* 4) removeUrl() 메소드를 구현하여 URL을 삭제할 수 있도록 한다.\n",
    "\n",
    "    * 반드시 1개의 URL을 삭제하도록 구현 (즉, 동시에 여러 개의 URL을 삭제하는 것은 배제)\n",
    "            >>> w1.removeUrl('http://www.cnn.com')\n",
    "            >>> w2.removeUrl('http://stackoverflow.com')\n",
    "\n",
    "* 5) listUrls() 메소드를 구현하여 현재 등록된 모든 URL을 출력하는 기능을 추가\n",
    "        >>> w1.listUrls()\n",
    "        http://www.times.com\n",
    "        https://www.amazon.com\n",
    "        https://github.com\n",
    "\n",
    "* 6) getWordsFrequency() 메소드를 구현하여 각 URL의 웹페이지들을 종합적으로 분석한 단어 출현 빈도 사전을 반환하시오.\n",
    "\n",
    "    * 만약 등록된 URL이 없다면 공백 사전을 반환\n",
    "            >>> w1.getWordsFrequency()\n",
    "            {'hello': 8, 'site': 12, 'world': 2, 'science': 11, 'program': 1, 'python': 1}\n",
    "\n",
    "* 7) getMaxFreqencyWords() 메소드를 구현하여 각 URL의 웹페이지들을 종합적으로 분석한 단어 출현 빈도 사전에서 가장 많이 출현한 단어 리스트를 반환하시오.\n",
    "\n",
    "         >>> w1.getMaxFreqencyWords()\n",
    "         {'site': 12}\n",
    "\n",
    "    * 최다 출현 단어의 빈도수가 동일한 경우 모두 출력해주어야 함\n",
    "            >>> w2.getMaxFreqencyWords()\n",
    "            {'site': 12, 'science': 12}\n",
    "\n",
    "    * 만약 등록된 URL이 없다면 getMaxFreqencyWords()의 반환 값은 None이 되어야 함.\n",
    "* 8) 임의의 단어 1개를 파라미터로 받는 searchUrlByWord() 메소드를 구현하여 유사도가 높은 웹 사이트를 출력하시오.\n",
    "\n",
    "        >>> w1.searchUrlByWord(\"news\")\n",
    "        http://www.cnn.com\n",
    "\n",
    "    * 파라미터로 받은 단어와 유사도가 동일한 URL이 여러 개이면 해당 URL을 모두 출력하시오."
   ]
  },
  {
   "cell_type": "code",
   "execution_count": 46,
   "id": "6c7fa2ac",
   "metadata": {},
   "outputs": [],
   "source": [
    "import requests\n",
    "import string\n",
    "\n",
    "class SearchEngine:\n",
    "    def __init__(self, *url):\n",
    "        self.url = []\n",
    "        for u in url:\n",
    "            self.url.append(u)\n",
    "    \n",
    "    def addUrl(self, url):\n",
    "        self.url.append(url)\n",
    "    \n",
    "    def removeUrl(self, url):\n",
    "        for e in self.url:\n",
    "            if ( e == url):\n",
    "                self.url.remove(url)\n",
    "    \n",
    "    def listUrls(self):\n",
    "        for e in self.url:\n",
    "            print(e)\n",
    "    \n",
    "    def getWordsFrequency(self):\n",
    "        for i in self.url:\n",
    "            print(self.Frequency(i))\n",
    "   \n",
    "    def getMaxFrequencyWord(self):\n",
    "        if(self.url == None):\n",
    "            return None\n",
    "        else:\n",
    "            dic = dict()\n",
    "            for i in self.url:\n",
    "                dic.update(self.Frequency(i))\n",
    "            lst = []\n",
    "            for (i,j) in dic.items():\n",
    "                lst.append( (i,j) )\n",
    "            def mycmp(tpl):\n",
    "                return tpl[1]\n",
    "            lst = sorted(lst, key=mycmp, reverse=True)\n",
    "            i = 0\n",
    "            while True:              \n",
    "                if(lst[i][1]!=lst[i+1][1]):\n",
    "                    print (lst[i])\n",
    "                    break\n",
    "                else: \n",
    "                    print(lst[i])\n",
    "                    i += 1\n",
    "    def searchUrlByWord(self, word):\n",
    "        s = []\n",
    "        dict_result = {}\n",
    "        for i in self.url:\n",
    "            for e in self.Frequency(i):\n",
    "                if word==e[0]:\n",
    "                    if i not in s:\n",
    "                        s.append(i)\n",
    "        for i in s:\n",
    "            for e in self.Frequency(i):\n",
    "                if word==e[0]:\n",
    "                    if i in dict_result:\n",
    "                        dict_result[i] += 1\n",
    "                    else:\n",
    "                        dict_result[i] = 1\n",
    "        def mycmp(tpl):\n",
    "                return tpl[1]    \n",
    "        dict_result = sorted(dict_result, key=mycmp, reverse=True)\n",
    "        i = 0\n",
    "        while True:              \n",
    "            if(lst[i][1]!=lst[i+1][1]):\n",
    "                print (lst[i])\n",
    "                break\n",
    "            else: \n",
    "                print(lst[i])\n",
    "                i += 1\n",
    "    \n",
    "    def remove_word(self, url):\n",
    "        f = open('change.txt','r')\n",
    "        s = f.read()\n",
    "        f.close()\n",
    "        s = s.split('\\n')\n",
    "        for i in l:\n",
    "            for j in s:\n",
    "                if (i[1:-1]==j):\n",
    "                    l.remove(i)\n",
    "    def Frequency(self, url):\n",
    "        f = open(\"change.txt\", 'a')\n",
    "        f.close()\n",
    "        req = requests.get(url)\n",
    "        source = req.text\n",
    "\n",
    "        source = source.strip()\n",
    "        word = ''\n",
    "        check = True\n",
    "        result = []\n",
    "        result2 = []\n",
    "        index = 0\n",
    "\n",
    "        for i in range(len(source)):\n",
    "            if (source[i] == '>' and check == False):\n",
    "                    check = True\n",
    "                    continue\n",
    "            if (source[i] == '<'):\n",
    "                    check = False\n",
    "                    continue\n",
    "            if(check == True):\n",
    "                word += source[i]\n",
    "\n",
    "        result = word.split()\n",
    "\n",
    "        for i in range(len(result)): \n",
    "            result[i] = ''.join(a for a in result[i] if a not in string.punctuation)\n",
    "        result = ' '.join(result).split()\n",
    "        result.sort()\n",
    "\n",
    "        remove_word(result)\n",
    "        dict_result = {}\n",
    "\n",
    "        for i in result:\n",
    "            if i in dict_result:\n",
    "                dict_result[i] += 1\n",
    "            else:\n",
    "                dict_result[i] = 1\n",
    "        return dict_result        "
   ]
  },
  {
   "cell_type": "code",
   "execution_count": 39,
   "id": "a39233d3",
   "metadata": {},
   "outputs": [],
   "source": [
    "w1 = SearchEngine('http://www.cnn.com', 'http://www.times.com', 'https://www.amazon.com')\n",
    "w2 = SearchEngine('http://www.cnn.com', 'http://www.times.com')\n",
    "w3 = SearchEngine()"
   ]
  },
  {
   "cell_type": "code",
   "execution_count": 40,
   "id": "f5ddc85f",
   "metadata": {},
   "outputs": [],
   "source": [
    "w1.addUrl('https://github.com')\n",
    "w3.addUrl('http://stackoverflow.com')"
   ]
  },
  {
   "cell_type": "code",
   "execution_count": 41,
   "id": "8250aba7",
   "metadata": {},
   "outputs": [],
   "source": [
    "w1.removeUrl('http://www.cnn.com')\n",
    "w2.removeUrl('http://stackoverflow.com')"
   ]
  },
  {
   "cell_type": "code",
   "execution_count": 42,
   "id": "490b9775",
   "metadata": {},
   "outputs": [
    {
     "name": "stdout",
     "output_type": "stream",
     "text": [
      "http://www.times.com\n",
      "https://www.amazon.com\n",
      "https://github.com\n"
     ]
    }
   ],
   "source": [
    "w1.listUrls()"
   ]
  },
  {
   "cell_type": "code",
   "execution_count": 45,
   "id": "019c3408",
   "metadata": {},
   "outputs": [
    {
     "ename": "NameError",
     "evalue": "name 'remove_word' is not defined",
     "output_type": "error",
     "traceback": [
      "\u001b[1;31m---------------------------------------------------------------------------\u001b[0m",
      "\u001b[1;31mNameError\u001b[0m                                 Traceback (most recent call last)",
      "\u001b[1;32m<ipython-input-45-799edd039014>\u001b[0m in \u001b[0;36m<module>\u001b[1;34m\u001b[0m\n\u001b[1;32m----> 1\u001b[1;33m \u001b[0mw1\u001b[0m\u001b[1;33m.\u001b[0m\u001b[0mgetWordsFrequency\u001b[0m\u001b[1;33m(\u001b[0m\u001b[1;33m)\u001b[0m\u001b[1;33m\u001b[0m\u001b[1;33m\u001b[0m\u001b[0m\n\u001b[0m",
      "\u001b[1;32m<ipython-input-37-0e61fff65a73>\u001b[0m in \u001b[0;36mgetWordsFrequency\u001b[1;34m(self)\u001b[0m\n\u001b[0;32m     22\u001b[0m     \u001b[1;32mdef\u001b[0m \u001b[0mgetWordsFrequency\u001b[0m\u001b[1;33m(\u001b[0m\u001b[0mself\u001b[0m\u001b[1;33m)\u001b[0m\u001b[1;33m:\u001b[0m\u001b[1;33m\u001b[0m\u001b[1;33m\u001b[0m\u001b[0m\n\u001b[0;32m     23\u001b[0m         \u001b[1;32mfor\u001b[0m \u001b[0mi\u001b[0m \u001b[1;32min\u001b[0m \u001b[0mself\u001b[0m\u001b[1;33m.\u001b[0m\u001b[0murl\u001b[0m\u001b[1;33m:\u001b[0m\u001b[1;33m\u001b[0m\u001b[1;33m\u001b[0m\u001b[0m\n\u001b[1;32m---> 24\u001b[1;33m             \u001b[0mprint\u001b[0m\u001b[1;33m(\u001b[0m\u001b[0mself\u001b[0m\u001b[1;33m.\u001b[0m\u001b[0mFrequency\u001b[0m\u001b[1;33m(\u001b[0m\u001b[0mi\u001b[0m\u001b[1;33m)\u001b[0m\u001b[1;33m)\u001b[0m\u001b[1;33m\u001b[0m\u001b[1;33m\u001b[0m\u001b[0m\n\u001b[0m\u001b[0;32m     25\u001b[0m \u001b[1;33m\u001b[0m\u001b[0m\n\u001b[0;32m     26\u001b[0m     \u001b[1;32mdef\u001b[0m \u001b[0mgetMaxFrequencyWord\u001b[0m\u001b[1;33m(\u001b[0m\u001b[0mself\u001b[0m\u001b[1;33m)\u001b[0m\u001b[1;33m:\u001b[0m\u001b[1;33m\u001b[0m\u001b[1;33m\u001b[0m\u001b[0m\n",
      "\u001b[1;32m<ipython-input-37-0e61fff65a73>\u001b[0m in \u001b[0;36mFrequency\u001b[1;34m(self, url)\u001b[0m\n\u001b[0;32m    111\u001b[0m         \u001b[0mresult\u001b[0m\u001b[1;33m.\u001b[0m\u001b[0msort\u001b[0m\u001b[1;33m(\u001b[0m\u001b[1;33m)\u001b[0m\u001b[1;33m\u001b[0m\u001b[1;33m\u001b[0m\u001b[0m\n\u001b[0;32m    112\u001b[0m \u001b[1;33m\u001b[0m\u001b[0m\n\u001b[1;32m--> 113\u001b[1;33m         \u001b[0mremove_word\u001b[0m\u001b[1;33m(\u001b[0m\u001b[0mresult\u001b[0m\u001b[1;33m)\u001b[0m\u001b[1;33m\u001b[0m\u001b[1;33m\u001b[0m\u001b[0m\n\u001b[0m\u001b[0;32m    114\u001b[0m         \u001b[0mdict_result\u001b[0m \u001b[1;33m=\u001b[0m \u001b[1;33m{\u001b[0m\u001b[1;33m}\u001b[0m\u001b[1;33m\u001b[0m\u001b[1;33m\u001b[0m\u001b[0m\n\u001b[0;32m    115\u001b[0m \u001b[1;33m\u001b[0m\u001b[0m\n",
      "\u001b[1;31mNameError\u001b[0m: name 'remove_word' is not defined"
     ]
    }
   ],
   "source": [
    "w1.getWordsFrequency()"
   ]
  },
  {
   "cell_type": "markdown",
   "id": "5c9382ca",
   "metadata": {},
   "source": [
    "__init__()으로 가변인수로 받은 url을 리스트에 넣었고, 나머지 __addUrl__, __removeUrl__, __listUrls__ 모두 기본적인 class method나 for 반복문을 이용해 만들었다.<br>\n",
    "이전 함수를 Frequency()로 클래스 내부 함수로 변환하고 remove_word() 함수 또한 클래스 내부 함수로 이동하였다.<br>\n",
    "getWordsFrequency() 함수는 각각의 url에 따른 Frequency() 결과를 출력하게 했고,\n",
    "getMaxFrequencyWord() 함수는 모든 url의 Frequency() 결과를 모아 람다 함수를 이용해 정렬한 후 가장 큰 수의 결과값을 출력하게 만들었다.<br>\n",
    "searchUrlByWord() 함수는 dict 내부에 있는 내용이 검색 단어와 일치하는지 확인해 일치하는 url을 추가하고 url들 중에서 가장 dict_value 값이 큰 url을 출력하게 만들었다."
   ]
  },
  {
   "cell_type": "markdown",
   "id": "8ee526d7",
   "metadata": {},
   "source": [
    "2. 위 1번 문제에서 정의한 SearchEngine 클래스를 상속하여 SearchEngineWithOrderedWebWords 클래스를 정의하고 슈퍼클래스에 정의된 getWordsFrequency() 메소드를 오버라이드하여 단어 출현 빈도를 내림 차순으로 정렬하여 리스트로 출력하시오.\n",
    "* 리스트 내의 각 원소는 단어와 빈도를 쌍으로 지니는 튜플이다.\n",
    "* getWordFrequence() 메소드에 reverse 라는 인자를 만들고 true 또는 false를 인자로 받을 수 있도록 한다.\n",
    "\n",
    "    * reverse 인자의 디폴트 값은 false 이며, 기본적으로 내림차순으로 정렬한다.\n",
    "    * reverse 인자에 true를 넣으면 오름차순으로 정렬한다.\n",
    "            >>> w4 = SearchEngineWithOrderedWebWords('http://www.times.com', 'https://www.amazon.com', 'https://github.com')\n",
    "\n",
    "            >>> w4.getWordsFrequency()\n",
    "            [('site', 12), ('science', 11), ('hello', 8), ('world', 2), ('program', 1), ('python', 1)]\n",
    "\n",
    "            >>> w4.getWordsFrequency(reverse=true)\n",
    "            [('program', 1), ('python', 1), ('world', 2), ('hello', 8), ('science', 11), ('site', 12)]"
   ]
  },
  {
   "cell_type": "code",
   "execution_count": 47,
   "id": "ba60b0ac",
   "metadata": {},
   "outputs": [],
   "source": [
    "class SearchEngineWithOrderedWebWords(SearchEngine):\n",
    "    def getWordsFrequency(self, reverse = False):\n",
    "        word_list = SearchEngine.getWordsFrequency(self)\n",
    "        word_list = list(word_list.items())\n",
    "        word_list.sort(key = lambda x : x[1], reverse = not(reverse))\n",
    "        return word_list"
   ]
  },
  {
   "cell_type": "code",
   "execution_count": null,
   "id": "19f51988",
   "metadata": {},
   "outputs": [],
   "source": [
    "w4 = SearchEngineWithOrderedWebWords('http://www.times.com', 'https://www.amazon.com', 'https://github.com')\n",
    "print(w4.getWordsFrequency())\n",
    "print()\n",
    "print(w4.getWordsFrequency(reverse = True))"
   ]
  },
  {
   "cell_type": "markdown",
   "id": "e700848b",
   "metadata": {},
   "source": [
    "다음과 같은 코딩이 가능하도록 SearchEngineWithOrderedWebWords안에 반복자와 관련된 메소드를 추가하시오.<br>\n",
    "    >>> for i in w4:<br>\n",
    "    >>>       print(i)<br>\n",
    "('site, 12)<br>\n",
    "('science', 11)<br>\n",
    "('hello', 8)<br>\n",
    "('world', 2)<br>\n",
    "('program', 1)<br>\n",
    "('python', 1)"
   ]
  },
  {
   "cell_type": "code",
   "execution_count": 50,
   "id": "549ea471",
   "metadata": {},
   "outputs": [],
   "source": [
    "import sys\n",
    "class SearchEngineWithOrderedWebWords(SearchEngine):\n",
    "    def getWordsFrequency(self, reverse = False):\n",
    "        word_list = SearchEngine.getWordsFrequency(self)\n",
    "        word_list = list(word_list.items())\n",
    "        word_list.sort(key = lambda x : x[1], reverse = not(reverse))\n",
    "        return word_list\n",
    "    def __iter__(self):\n",
    "        return iter(self.getWordsFrequency())  \n",
    "    def __next__(self):\n",
    "        return self"
   ]
  },
  {
   "cell_type": "code",
   "execution_count": null,
   "id": "09f74c5f",
   "metadata": {},
   "outputs": [],
   "source": [
    "for i in w4:\n",
    "    print(i)"
   ]
  },
  {
   "cell_type": "markdown",
   "id": "613ae3b4",
   "metadata": {},
   "source": [
    "__iter__()는 반복자를 __next__()는 반복자의 작동을 담당하고 getWordsFrequency() 재정의에서는 람다함수를 이용해 만들었다."
   ]
  },
  {
   "cell_type": "markdown",
   "id": "b55fe4d6",
   "metadata": {},
   "source": [
    "### 느낀점\n",
    "코드는 대부분 쓸 수 있었는데 결과 출력에서 계속 이름 공간을 찾을 수 없다는 오류로 인해 막혀서 일단 코드들만 만들고 출력을 완성하지 못한 경우도 많아 매우 힘들었다.\n",
    "대체 왜 안되는지 모르겠다"
   ]
  }
 ],
 "metadata": {
  "kernelspec": {
   "display_name": "Python 3",
   "language": "python",
   "name": "python3"
  },
  "language_info": {
   "codemirror_mode": {
    "name": "ipython",
    "version": 3
   },
   "file_extension": ".py",
   "mimetype": "text/x-python",
   "name": "python",
   "nbconvert_exporter": "python",
   "pygments_lexer": "ipython3",
   "version": "3.8.8"
  }
 },
 "nbformat": 4,
 "nbformat_minor": 5
}
